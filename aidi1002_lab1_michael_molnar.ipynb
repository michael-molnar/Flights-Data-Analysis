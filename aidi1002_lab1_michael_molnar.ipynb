{
 "cells": [
  {
   "cell_type": "markdown",
   "metadata": {},
   "source": [
    "### Exploratory Data Analysis on All Flights That Departed NYC in 2013\n",
    "\n",
    "AIDI 1002 - Lab 1\n",
    "- Michael Molnar\n",
    "- 100806823"
   ]
  },
  {
   "cell_type": "markdown",
   "metadata": {},
   "source": [
    "<b>Problem Statement:</b>  Can we say that Delta Airlines (DL) flights are delayed more than United Airlines (UA) flights?"
   ]
  },
  {
   "cell_type": "markdown",
   "metadata": {},
   "source": [
    "<b>Dataset:</b> \"flights.csv\".  The dataset includes 336,776 rows and 19 columns"
   ]
  },
  {
   "cell_type": "markdown",
   "metadata": {},
   "source": [
    "Each row represents one flight that left from one of New York City's three airports in the year 2013.\n",
    "\n",
    "The columns are:\n",
    "    year, month, day, dep_time, sched_dep_time, dep_delay, arr_time, sched_arr_time, arr_delay,\n",
    "    carrier, flight, tailnum, origin, dest, air_time, distance, hour, minute, time_hour"
   ]
  },
  {
   "cell_type": "markdown",
   "metadata": {},
   "source": [
    "### Task 1:  Import Flights Dataset and Inspect the Data"
   ]
  },
  {
   "cell_type": "code",
   "execution_count": 99,
   "metadata": {},
   "outputs": [],
   "source": [
    "import numpy as np\n",
    "import pandas as pd\n",
    "import matplotlib.pyplot as plt\n",
    "from math import sqrt\n",
    "from scipy.stats import ttest_ind"
   ]
  },
  {
   "cell_type": "code",
   "execution_count": 100,
   "metadata": {},
   "outputs": [],
   "source": [
    "flights_df = pd.read_csv('flights.csv')"
   ]
  },
  {
   "cell_type": "code",
   "execution_count": 101,
   "metadata": {},
   "outputs": [
    {
     "data": {
      "text/plain": [
       "pandas.core.frame.DataFrame"
      ]
     },
     "execution_count": 101,
     "metadata": {},
     "output_type": "execute_result"
    }
   ],
   "source": [
    "type(flights_df)"
   ]
  },
  {
   "cell_type": "code",
   "execution_count": 102,
   "metadata": {},
   "outputs": [
    {
     "data": {
      "text/plain": [
       "year                int64\n",
       "month               int64\n",
       "day                 int64\n",
       "dep_time          float64\n",
       "sched_dep_time      int64\n",
       "dep_delay         float64\n",
       "arr_time          float64\n",
       "sched_arr_time      int64\n",
       "arr_delay         float64\n",
       "carrier            object\n",
       "flight              int64\n",
       "tailnum            object\n",
       "origin             object\n",
       "dest               object\n",
       "air_time          float64\n",
       "distance            int64\n",
       "hour                int64\n",
       "minute              int64\n",
       "time_hour          object\n",
       "dtype: object"
      ]
     },
     "execution_count": 102,
     "metadata": {},
     "output_type": "execute_result"
    }
   ],
   "source": [
    "flights_df.dtypes"
   ]
  },
  {
   "cell_type": "code",
   "execution_count": 103,
   "metadata": {},
   "outputs": [
    {
     "data": {
      "text/html": [
       "<div>\n",
       "<style scoped>\n",
       "    .dataframe tbody tr th:only-of-type {\n",
       "        vertical-align: middle;\n",
       "    }\n",
       "\n",
       "    .dataframe tbody tr th {\n",
       "        vertical-align: top;\n",
       "    }\n",
       "\n",
       "    .dataframe thead th {\n",
       "        text-align: right;\n",
       "    }\n",
       "</style>\n",
       "<table border=\"1\" class=\"dataframe\">\n",
       "  <thead>\n",
       "    <tr style=\"text-align: right;\">\n",
       "      <th></th>\n",
       "      <th>year</th>\n",
       "      <th>month</th>\n",
       "      <th>day</th>\n",
       "      <th>dep_time</th>\n",
       "      <th>sched_dep_time</th>\n",
       "      <th>dep_delay</th>\n",
       "      <th>arr_time</th>\n",
       "      <th>sched_arr_time</th>\n",
       "      <th>arr_delay</th>\n",
       "      <th>carrier</th>\n",
       "      <th>flight</th>\n",
       "      <th>tailnum</th>\n",
       "      <th>origin</th>\n",
       "      <th>dest</th>\n",
       "      <th>air_time</th>\n",
       "      <th>distance</th>\n",
       "      <th>hour</th>\n",
       "      <th>minute</th>\n",
       "      <th>time_hour</th>\n",
       "    </tr>\n",
       "  </thead>\n",
       "  <tbody>\n",
       "    <tr>\n",
       "      <th>0</th>\n",
       "      <td>2013</td>\n",
       "      <td>1</td>\n",
       "      <td>1</td>\n",
       "      <td>517.0</td>\n",
       "      <td>515</td>\n",
       "      <td>2.0</td>\n",
       "      <td>830.0</td>\n",
       "      <td>819</td>\n",
       "      <td>11.0</td>\n",
       "      <td>UA</td>\n",
       "      <td>1545</td>\n",
       "      <td>N14228</td>\n",
       "      <td>EWR</td>\n",
       "      <td>IAH</td>\n",
       "      <td>227.0</td>\n",
       "      <td>1400</td>\n",
       "      <td>5</td>\n",
       "      <td>15</td>\n",
       "      <td>2013-01-01T05:00:00Z</td>\n",
       "    </tr>\n",
       "    <tr>\n",
       "      <th>1</th>\n",
       "      <td>2013</td>\n",
       "      <td>1</td>\n",
       "      <td>1</td>\n",
       "      <td>533.0</td>\n",
       "      <td>529</td>\n",
       "      <td>4.0</td>\n",
       "      <td>850.0</td>\n",
       "      <td>830</td>\n",
       "      <td>20.0</td>\n",
       "      <td>UA</td>\n",
       "      <td>1714</td>\n",
       "      <td>N24211</td>\n",
       "      <td>LGA</td>\n",
       "      <td>IAH</td>\n",
       "      <td>227.0</td>\n",
       "      <td>1416</td>\n",
       "      <td>5</td>\n",
       "      <td>29</td>\n",
       "      <td>2013-01-01T05:00:00Z</td>\n",
       "    </tr>\n",
       "    <tr>\n",
       "      <th>2</th>\n",
       "      <td>2013</td>\n",
       "      <td>1</td>\n",
       "      <td>1</td>\n",
       "      <td>542.0</td>\n",
       "      <td>540</td>\n",
       "      <td>2.0</td>\n",
       "      <td>923.0</td>\n",
       "      <td>850</td>\n",
       "      <td>33.0</td>\n",
       "      <td>AA</td>\n",
       "      <td>1141</td>\n",
       "      <td>N619AA</td>\n",
       "      <td>JFK</td>\n",
       "      <td>MIA</td>\n",
       "      <td>160.0</td>\n",
       "      <td>1089</td>\n",
       "      <td>5</td>\n",
       "      <td>40</td>\n",
       "      <td>2013-01-01T05:00:00Z</td>\n",
       "    </tr>\n",
       "    <tr>\n",
       "      <th>3</th>\n",
       "      <td>2013</td>\n",
       "      <td>1</td>\n",
       "      <td>1</td>\n",
       "      <td>544.0</td>\n",
       "      <td>545</td>\n",
       "      <td>-1.0</td>\n",
       "      <td>1004.0</td>\n",
       "      <td>1022</td>\n",
       "      <td>-18.0</td>\n",
       "      <td>B6</td>\n",
       "      <td>725</td>\n",
       "      <td>N804JB</td>\n",
       "      <td>JFK</td>\n",
       "      <td>BQN</td>\n",
       "      <td>183.0</td>\n",
       "      <td>1576</td>\n",
       "      <td>5</td>\n",
       "      <td>45</td>\n",
       "      <td>2013-01-01T05:00:00Z</td>\n",
       "    </tr>\n",
       "    <tr>\n",
       "      <th>4</th>\n",
       "      <td>2013</td>\n",
       "      <td>1</td>\n",
       "      <td>1</td>\n",
       "      <td>554.0</td>\n",
       "      <td>600</td>\n",
       "      <td>-6.0</td>\n",
       "      <td>812.0</td>\n",
       "      <td>837</td>\n",
       "      <td>-25.0</td>\n",
       "      <td>DL</td>\n",
       "      <td>461</td>\n",
       "      <td>N668DN</td>\n",
       "      <td>LGA</td>\n",
       "      <td>ATL</td>\n",
       "      <td>116.0</td>\n",
       "      <td>762</td>\n",
       "      <td>6</td>\n",
       "      <td>0</td>\n",
       "      <td>2013-01-01T06:00:00Z</td>\n",
       "    </tr>\n",
       "    <tr>\n",
       "      <th>...</th>\n",
       "      <td>...</td>\n",
       "      <td>...</td>\n",
       "      <td>...</td>\n",
       "      <td>...</td>\n",
       "      <td>...</td>\n",
       "      <td>...</td>\n",
       "      <td>...</td>\n",
       "      <td>...</td>\n",
       "      <td>...</td>\n",
       "      <td>...</td>\n",
       "      <td>...</td>\n",
       "      <td>...</td>\n",
       "      <td>...</td>\n",
       "      <td>...</td>\n",
       "      <td>...</td>\n",
       "      <td>...</td>\n",
       "      <td>...</td>\n",
       "      <td>...</td>\n",
       "      <td>...</td>\n",
       "    </tr>\n",
       "    <tr>\n",
       "      <th>336771</th>\n",
       "      <td>2013</td>\n",
       "      <td>9</td>\n",
       "      <td>30</td>\n",
       "      <td>NaN</td>\n",
       "      <td>1455</td>\n",
       "      <td>NaN</td>\n",
       "      <td>NaN</td>\n",
       "      <td>1634</td>\n",
       "      <td>NaN</td>\n",
       "      <td>9E</td>\n",
       "      <td>3393</td>\n",
       "      <td>NaN</td>\n",
       "      <td>JFK</td>\n",
       "      <td>DCA</td>\n",
       "      <td>NaN</td>\n",
       "      <td>213</td>\n",
       "      <td>14</td>\n",
       "      <td>55</td>\n",
       "      <td>2013-09-30T14:00:00Z</td>\n",
       "    </tr>\n",
       "    <tr>\n",
       "      <th>336772</th>\n",
       "      <td>2013</td>\n",
       "      <td>9</td>\n",
       "      <td>30</td>\n",
       "      <td>NaN</td>\n",
       "      <td>2200</td>\n",
       "      <td>NaN</td>\n",
       "      <td>NaN</td>\n",
       "      <td>2312</td>\n",
       "      <td>NaN</td>\n",
       "      <td>9E</td>\n",
       "      <td>3525</td>\n",
       "      <td>NaN</td>\n",
       "      <td>LGA</td>\n",
       "      <td>SYR</td>\n",
       "      <td>NaN</td>\n",
       "      <td>198</td>\n",
       "      <td>22</td>\n",
       "      <td>0</td>\n",
       "      <td>2013-09-30T22:00:00Z</td>\n",
       "    </tr>\n",
       "    <tr>\n",
       "      <th>336773</th>\n",
       "      <td>2013</td>\n",
       "      <td>9</td>\n",
       "      <td>30</td>\n",
       "      <td>NaN</td>\n",
       "      <td>1210</td>\n",
       "      <td>NaN</td>\n",
       "      <td>NaN</td>\n",
       "      <td>1330</td>\n",
       "      <td>NaN</td>\n",
       "      <td>MQ</td>\n",
       "      <td>3461</td>\n",
       "      <td>N535MQ</td>\n",
       "      <td>LGA</td>\n",
       "      <td>BNA</td>\n",
       "      <td>NaN</td>\n",
       "      <td>764</td>\n",
       "      <td>12</td>\n",
       "      <td>10</td>\n",
       "      <td>2013-09-30T12:00:00Z</td>\n",
       "    </tr>\n",
       "    <tr>\n",
       "      <th>336774</th>\n",
       "      <td>2013</td>\n",
       "      <td>9</td>\n",
       "      <td>30</td>\n",
       "      <td>NaN</td>\n",
       "      <td>1159</td>\n",
       "      <td>NaN</td>\n",
       "      <td>NaN</td>\n",
       "      <td>1344</td>\n",
       "      <td>NaN</td>\n",
       "      <td>MQ</td>\n",
       "      <td>3572</td>\n",
       "      <td>N511MQ</td>\n",
       "      <td>LGA</td>\n",
       "      <td>CLE</td>\n",
       "      <td>NaN</td>\n",
       "      <td>419</td>\n",
       "      <td>11</td>\n",
       "      <td>59</td>\n",
       "      <td>2013-09-30T11:00:00Z</td>\n",
       "    </tr>\n",
       "    <tr>\n",
       "      <th>336775</th>\n",
       "      <td>2013</td>\n",
       "      <td>9</td>\n",
       "      <td>30</td>\n",
       "      <td>NaN</td>\n",
       "      <td>840</td>\n",
       "      <td>NaN</td>\n",
       "      <td>NaN</td>\n",
       "      <td>1020</td>\n",
       "      <td>NaN</td>\n",
       "      <td>MQ</td>\n",
       "      <td>3531</td>\n",
       "      <td>N839MQ</td>\n",
       "      <td>LGA</td>\n",
       "      <td>RDU</td>\n",
       "      <td>NaN</td>\n",
       "      <td>431</td>\n",
       "      <td>8</td>\n",
       "      <td>40</td>\n",
       "      <td>2013-09-30T08:00:00Z</td>\n",
       "    </tr>\n",
       "  </tbody>\n",
       "</table>\n",
       "<p>336776 rows × 19 columns</p>\n",
       "</div>"
      ],
      "text/plain": [
       "        year  month  day  dep_time  sched_dep_time  dep_delay  arr_time  \\\n",
       "0       2013      1    1     517.0             515        2.0     830.0   \n",
       "1       2013      1    1     533.0             529        4.0     850.0   \n",
       "2       2013      1    1     542.0             540        2.0     923.0   \n",
       "3       2013      1    1     544.0             545       -1.0    1004.0   \n",
       "4       2013      1    1     554.0             600       -6.0     812.0   \n",
       "...      ...    ...  ...       ...             ...        ...       ...   \n",
       "336771  2013      9   30       NaN            1455        NaN       NaN   \n",
       "336772  2013      9   30       NaN            2200        NaN       NaN   \n",
       "336773  2013      9   30       NaN            1210        NaN       NaN   \n",
       "336774  2013      9   30       NaN            1159        NaN       NaN   \n",
       "336775  2013      9   30       NaN             840        NaN       NaN   \n",
       "\n",
       "        sched_arr_time  arr_delay carrier  flight tailnum origin dest  \\\n",
       "0                  819       11.0      UA    1545  N14228    EWR  IAH   \n",
       "1                  830       20.0      UA    1714  N24211    LGA  IAH   \n",
       "2                  850       33.0      AA    1141  N619AA    JFK  MIA   \n",
       "3                 1022      -18.0      B6     725  N804JB    JFK  BQN   \n",
       "4                  837      -25.0      DL     461  N668DN    LGA  ATL   \n",
       "...                ...        ...     ...     ...     ...    ...  ...   \n",
       "336771            1634        NaN      9E    3393     NaN    JFK  DCA   \n",
       "336772            2312        NaN      9E    3525     NaN    LGA  SYR   \n",
       "336773            1330        NaN      MQ    3461  N535MQ    LGA  BNA   \n",
       "336774            1344        NaN      MQ    3572  N511MQ    LGA  CLE   \n",
       "336775            1020        NaN      MQ    3531  N839MQ    LGA  RDU   \n",
       "\n",
       "        air_time  distance  hour  minute             time_hour  \n",
       "0          227.0      1400     5      15  2013-01-01T05:00:00Z  \n",
       "1          227.0      1416     5      29  2013-01-01T05:00:00Z  \n",
       "2          160.0      1089     5      40  2013-01-01T05:00:00Z  \n",
       "3          183.0      1576     5      45  2013-01-01T05:00:00Z  \n",
       "4          116.0       762     6       0  2013-01-01T06:00:00Z  \n",
       "...          ...       ...   ...     ...                   ...  \n",
       "336771       NaN       213    14      55  2013-09-30T14:00:00Z  \n",
       "336772       NaN       198    22       0  2013-09-30T22:00:00Z  \n",
       "336773       NaN       764    12      10  2013-09-30T12:00:00Z  \n",
       "336774       NaN       419    11      59  2013-09-30T11:00:00Z  \n",
       "336775       NaN       431     8      40  2013-09-30T08:00:00Z  \n",
       "\n",
       "[336776 rows x 19 columns]"
      ]
     },
     "metadata": {},
     "output_type": "display_data"
    }
   ],
   "source": [
    "display(flights_df)"
   ]
  },
  {
   "cell_type": "code",
   "execution_count": 104,
   "metadata": {},
   "outputs": [
    {
     "data": {
      "text/plain": [
       "(336776, 19)"
      ]
     },
     "execution_count": 104,
     "metadata": {},
     "output_type": "execute_result"
    }
   ],
   "source": [
    "flights_df.shape"
   ]
  },
  {
   "cell_type": "code",
   "execution_count": 105,
   "metadata": {},
   "outputs": [],
   "source": [
    "import sweetviz as sv"
   ]
  },
  {
   "cell_type": "code",
   "execution_count": 106,
   "metadata": {},
   "outputs": [
    {
     "name": "stderr",
     "output_type": "stream",
     "text": [
      ":FEATURES DONE:                    |█████████████████████| [100%]   00:06  -> (00:00 left)\n",
      ":PAIRWISE DONE:                    |█████████████████████| [100%]   00:10  -> (00:00 left)\n"
     ]
    },
    {
     "name": "stdout",
     "output_type": "stream",
     "text": [
      "Creating Associations graph... DONE!\n"
     ]
    }
   ],
   "source": [
    "events_report = sv.analyze(flights_df)"
   ]
  },
  {
   "cell_type": "code",
   "execution_count": 107,
   "metadata": {},
   "outputs": [
    {
     "name": "stdout",
     "output_type": "stream",
     "text": [
      "Report SWEETVIZ_REPORT.html was generated! NOTEBOOK/COLAB USERS: no browser will pop up, the report is saved in your notebook/colab files.\n"
     ]
    }
   ],
   "source": [
    "events_report.show_html()"
   ]
  },
  {
   "cell_type": "markdown",
   "metadata": {},
   "source": [
    "Observations:\n",
    "- The dataset is missing 8,255 dep_time values.  \n",
    "- The dataset is missing 8,255 dep_delay values.  \n",
    "- The dataset is missing 8,713 arr_time values.  \n",
    "- The dataset is missing 9,430 arr_delay values.\n",
    "- The dataset is missing 2,512 tailnum values.\n",
    "- The dataset is missing 9,430 air_time values.\n",
    "- All missing values have been replaced with NaN in the dataset."
   ]
  },
  {
   "cell_type": "markdown",
   "metadata": {},
   "source": [
    "### Task 2: General Reports"
   ]
  },
  {
   "cell_type": "markdown",
   "metadata": {},
   "source": [
    "To commence with our examination of the data, we first remove all rows in the dataframe which contain missing values."
   ]
  },
  {
   "cell_type": "code",
   "execution_count": 108,
   "metadata": {},
   "outputs": [
    {
     "data": {
      "text/plain": [
       "(327346, 19)"
      ]
     },
     "execution_count": 108,
     "metadata": {},
     "output_type": "execute_result"
    }
   ],
   "source": [
    "# Create a new dataframe, flights2, consisting only of rows containing all values\n",
    "flights2 = flights_df.dropna()\n",
    "flights2.shape"
   ]
  },
  {
   "cell_type": "markdown",
   "metadata": {},
   "source": [
    "<b> Report 1:</b>\n",
    "\n",
    "- First, we look at the number of flights that left New York each month \n",
    "- This will give us a sense of if flight traffic varies throughout the year"
   ]
  },
  {
   "cell_type": "code",
   "execution_count": 109,
   "metadata": {},
   "outputs": [],
   "source": [
    "# Create a dictionary where the keys are the month numbers and the values are the total number of flights in that month\n",
    "total_flights = flights2['month']\n",
    "monthly_flights = {}\n",
    "for i in range(1, 13):\n",
    "    monthly_flights[i] = total_flights.loc[flights2['month'] == i].count()"
   ]
  },
  {
   "cell_type": "code",
   "execution_count": 110,
   "metadata": {},
   "outputs": [
    {
     "data": {
      "image/png": "[encoded data removed]",
      "text/plain": [
       "<Figure size 600x400 with 1 Axes>"
      ]
     },
     "metadata": {},
     "output_type": "display_data"
    }
   ],
   "source": [
    "# Plot the results\n",
    "total_flights_bar = plt.bar(monthly_flights.keys(), monthly_flights.values())\n",
    "plt.xlabel('Month')\n",
    "plt.ylabel('Total Flights')\n",
    "plt.title('All Flights Leaving New York in 2013')\n",
    "plt.show()"
   ]
  },
  {
   "cell_type": "markdown",
   "metadata": {},
   "source": [
    "<b> Observations: </b>\n",
    "- Flight numbers are generally stable month to month, with a slight dip in February"
   ]
  },
  {
   "cell_type": "markdown",
   "metadata": {},
   "source": [
    "<b> Report 2:</b>\n",
    "\n",
    "- The ultimate focus of this analysis will be on arrival delay information \n",
    "- The following reports will examine how arrival delay varies based on other variables\n",
    "- First, we look across all flights and examine the number of delays for various lengths of delay\n",
    "- We include negative values (ie. when a flight arrives earlier than scheduled)"
   ]
  },
  {
   "cell_type": "code",
   "execution_count": 111,
   "metadata": {},
   "outputs": [
    {
     "data": {
      "image/png": "[encoded data removed]",
      "text/plain": [
       "<Figure size 600x400 with 1 Axes>"
      ]
     },
     "metadata": {},
     "output_type": "display_data"
    }
   ],
   "source": [
    "# Plot the delay statistics\n",
    "delays = flights2['arr_delay']\n",
    "\n",
    "delays_hist = plt.hist(delays)\n",
    "plt.xlabel('Delay (min)')\n",
    "plt.ylabel('Count')\n",
    "plt.title('All Arrival Delay Statistics for 2013')\n",
    "plt.show()"
   ]
  },
  {
   "cell_type": "code",
   "execution_count": 112,
   "metadata": {},
   "outputs": [
    {
     "name": "stdout",
     "output_type": "stream",
     "text": [
      "Highest delay:  1272.0 minutes\n",
      "Number of delays of 300+ minutes: 611\n"
     ]
    }
   ],
   "source": [
    "# Generate some summary statistics\n",
    "print('Highest delay: ', flights2['arr_delay'].max(), 'minutes')\n",
    "long_delays = flights2['arr_delay'].loc[flights2['arr_delay'] > 300].count()\n",
    "print('Number of delays of 300+ minutes:', long_delays)"
   ]
  },
  {
   "cell_type": "markdown",
   "metadata": {},
   "source": [
    "<b> Observations: </b>\n",
    "- The vast majority of flight delays are centred around 0 - slightly early or slightly delayed\n",
    "- The distribution has positive skew\n",
    "- The longest delay was 1,272 minutes (over 21 hours!)\n",
    "- There were 611 flights delayed over 5 hours"
   ]
  },
  {
   "cell_type": "markdown",
   "metadata": {},
   "source": [
    "<b> Report 3:</b>\n",
    "\n",
    "- Next, we look at the average flight delay by month, again looking at all of the flights."
   ]
  },
  {
   "cell_type": "code",
   "execution_count": 113,
   "metadata": {},
   "outputs": [],
   "source": [
    "# Create a dictionary where the keys are the month numbers\n",
    "# The values are average flight delay for all flights in that month\n",
    "month_averages = {}\n",
    "for i in range(1,13):\n",
    "    avg = flights2['arr_delay'].loc[flights2['month']==i].mean(axis=0)\n",
    "    month_averages[i] = avg"
   ]
  },
  {
   "cell_type": "code",
   "execution_count": 114,
   "metadata": {},
   "outputs": [
    {
     "data": {
      "image/png": "[encoded data removed]",
      "text/plain": [
       "<Figure size 600x400 with 1 Axes>"
      ]
     },
     "metadata": {},
     "output_type": "display_data"
    }
   ],
   "source": [
    "# Plot the results\n",
    "month_averages_bar = plt.bar(month_averages.keys(), month_averages.values())\n",
    "plt.xlabel('Month')\n",
    "plt.ylabel('Average Delay(min)')\n",
    "plt.title('Average Flight Delay by Month 2013')\n",
    "plt.show()"
   ]
  },
  {
   "cell_type": "markdown",
   "metadata": {},
   "source": [
    "<b> Observations: </b>\n",
    "- We see that average delays are the highest in June, July, and December \n",
    "- The first three months of the year experience consistent average delays \n",
    "- In September flights arrive early, on average"
   ]
  },
  {
   "cell_type": "markdown",
   "metadata": {},
   "source": [
    "<b> Report 4:</b>\n",
    "\n",
    "- Next, we look at the average flight delay for each carrier\n",
    "- Is delay generally consistent across airlines or do some perform better than others?"
   ]
  },
  {
   "cell_type": "code",
   "execution_count": 115,
   "metadata": {},
   "outputs": [
    {
     "data": {
      "text/plain": [
       "array(['UA', 'AA', 'B6', 'DL', 'EV', 'MQ', 'US', 'WN', 'VX', 'FL', 'AS',\n",
       "       '9E', 'F9', 'HA', 'YV', 'OO'], dtype=object)"
      ]
     },
     "execution_count": 115,
     "metadata": {},
     "output_type": "execute_result"
    }
   ],
   "source": [
    "# Generate the list of carriers\n",
    "carrier_list = flights2['carrier'].unique()\n",
    "carrier_list"
   ]
  },
  {
   "cell_type": "code",
   "execution_count": 116,
   "metadata": {},
   "outputs": [],
   "source": [
    "# Create a dictionary where the keys are the carriers and the values are the average delays of their flights \n",
    "carrier_averages = {}\n",
    "for i in carrier_list:\n",
    "    avg = flights2['arr_delay'].loc[flights2['carrier'] == i].mean(axis=0)\n",
    "    carrier_averages[i] = avg"
   ]
  },
  {
   "cell_type": "code",
   "execution_count": 117,
   "metadata": {},
   "outputs": [
    {
     "data": {
      "image/png": "[encoded data removed]",
      "text/plain": [
       "<Figure size 600x400 with 1 Axes>"
      ]
     },
     "metadata": {},
     "output_type": "display_data"
    }
   ],
   "source": [
    "# Plot the results\n",
    "carrier_averages_bar = plt.bar(carrier_averages.keys(), carrier_averages.values())\n",
    "plt.xlabel('Carrier')\n",
    "plt.ylabel('Average Delay (min)')\n",
    "plt.title('Average Flight Delay by Carrier 2013')\n",
    "plt.show()"
   ]
  },
  {
   "cell_type": "markdown",
   "metadata": {},
   "source": [
    "<b> Observations: </b>\n",
    "- FL, F9, EV, YV have the highest average delays \n",
    "- AA, DL, US, VX arrive very close to their scheduled times, on average\n",
    "- AS and HA arrive early, on average"
   ]
  },
  {
   "cell_type": "markdown",
   "metadata": {},
   "source": [
    "<b> Report 5:</b>\n",
    "\n",
    "- We can look at the average delay based on which of New York City's three airports the flight is originating from. \n",
    "- Are delays consistent between them?"
   ]
  },
  {
   "cell_type": "code",
   "execution_count": 118,
   "metadata": {},
   "outputs": [
    {
     "data": {
      "text/plain": [
       "array(['EWR', 'LGA', 'JFK'], dtype=object)"
      ]
     },
     "execution_count": 118,
     "metadata": {},
     "output_type": "execute_result"
    }
   ],
   "source": [
    "# Generate the list of airports\n",
    "origin_list = flights2['origin'].unique()\n",
    "origin_list"
   ]
  },
  {
   "cell_type": "code",
   "execution_count": 119,
   "metadata": {},
   "outputs": [],
   "source": [
    "# Create a dictionary where the keys are the airports and the values are the average flight delay for that airport\n",
    "origin_averages = {}\n",
    "for i in origin_list:\n",
    "    avg = flights2['arr_delay'].loc[flights2['origin'] == i].mean(axis=0)\n",
    "    origin_averages[i] = avg"
   ]
  },
  {
   "cell_type": "code",
   "execution_count": 120,
   "metadata": {},
   "outputs": [
    {
     "data": {
      "image/png": "[encoded data removed]",
      "text/plain": [
       "<Figure size 600x400 with 1 Axes>"
      ]
     },
     "metadata": {},
     "output_type": "display_data"
    }
   ],
   "source": [
    "# Plot the results\n",
    "origin_averages_bar = plt.bar(origin_averages.keys(), origin_averages.values())\n",
    "plt.xlabel('Origin Airport')\n",
    "plt.ylabel('Average Delay (min)')\n",
    "plt.title('Average Flight Delay by Origin Airport 2013')\n",
    "plt.show()"
   ]
  },
  {
   "cell_type": "markdown",
   "metadata": {},
   "source": [
    "<b> Observations: </b>\n",
    "- EWR has a slightly higher average delay than the other two airports at about 9 minutes\n",
    "- LGA and JFK both average about a 6 minute delay"
   ]
  },
  {
   "cell_type": "markdown",
   "metadata": {},
   "source": [
    "<b> Report 6:</b>\n",
    "\n",
    "- How does the average delay relate to the destination?\n",
    "- Do flights to certain regions experience higher average delays than others?"
   ]
  },
  {
   "cell_type": "code",
   "execution_count": 121,
   "metadata": {},
   "outputs": [],
   "source": [
    "# Generate the list of flight destinations\n",
    "dest_list = flights2['dest'].unique()"
   ]
  },
  {
   "cell_type": "code",
   "execution_count": 122,
   "metadata": {},
   "outputs": [
    {
     "name": "stdout",
     "output_type": "stream",
     "text": [
      "[('LEX', -22.0), ('PSP', -12.722222222222221), ('SNA', -7.8682266009852215), ('STT', -3.835907335907336), ('ANC', -2.5), ('HNL', -1.3651925820256776), ('SEA', -1.0990990990990992), ('MVY', -0.2857142857142857), ('LGB', -0.06202723146747353), ('SLC', 0.1762545899632803), ('LAS', 0.25772849462365593), ('MIA', 0.29905977745191065), ('DFW', 0.32212684787792084), ('LAX', 0.5471109447148383), ('MTJ', 1.7857142857142858), ('PHX', 2.0970473295701257), ('HDN', 2.142857142857143), ('SJU', 2.520526589294994), ('SFO', 2.6728915205344266), ('BOS', 2.9143922247370524), ('OAK', 3.0776699029126213), ('SRQ', 3.0824313072439633), ('SAN', 3.1391657438169065), ('RSW', 3.2381496287835523), ('SJC', 3.448170731707317), ('IAH', 4.240790402258292), ('ABQ', 4.381889763779528), ('MYR', 4.603448275862069), ('ILM', 4.635514018691588), ('ACK', 4.8522727272727275), ('PDX', 5.141579731743666), ('DTW', 5.429963459196102), ('MCO', 5.454643087277153), ('ORD', 5.876614753108777), ('AUS', 6.019908751555371), ('EGE', 6.304347826086956), ('EYW', 6.352941176470588), ('MSY', 6.490174966352624), ('SBN', 6.5), ('SAT', 6.945371775417299), ('BDL', 7.048543689320389), ('HOU', 7.176188190110418), ('MSP', 7.270168855534709), ('CLT', 7.360318853298231), ('TPA', 7.408525033829499), ('XNA', 7.465725806451613), ('BZN', 7.6), ('PIT', 7.680990531682447), ('PSE', 7.871508379888268), ('AVL', 8.003831417624522), ('BGR', 8.027932960893855), ('FLL', 8.082121543246197), ('BUR', 8.175675675675675), ('BQN', 8.245495495495495), ('PBI', 8.562972098042238), ('DEN', 8.606500209234202), ('SYR', 8.903925014645576), ('BUF', 8.945951859956237), ('BTV', 8.950996015936255), ('DCA', 9.066952036000439), ('CLE', 9.181611288120164), ('CHO', 9.5), ('IND', 9.940434124179708), ('RDU', 10.052380952380952), ('PHL', 10.127190136275146), ('CHS', 10.59296846683581), ('CMH', 10.601322910402887), ('MEM', 10.645314353499407), ('BWI', 10.726733847065796), ('ORF', 10.949093444909344), ('STL', 11.0784645098986), ('ATL', 11.300112846706657), ('ROC', 11.56064461407973), ('PWM', 11.660402097902098), ('BNA', 11.812458908612754), ('JAX', 11.844834159359513), ('SMF', 12.109929078014185), ('MDW', 12.364223602484472), ('SDF', 12.669384057971014), ('DAY', 12.68048606147248), ('TVC', 12.968421052631578), ('IAD', 13.864202117778191), ('GSO', 14.11260053619303), ('MKE', 14.167220376522701), ('ALB', 14.397129186602871), ('MCI', 14.514058355437665), ('CRW', 14.671641791044776), ('OMA', 14.69889840881273), ('MHT', 14.78755364806867), ('SAV', 15.129506008010681), ('CVG', 15.364563758389261), ('GSP', 15.935443037974684), ('PVD', 16.23463687150838), ('BHM', 16.87732342007435), ('GRR', 18.189560439560438), ('DSM', 19.005736137667306), ('CAK', 19.69833729216152), ('RIC', 20.111253196930946), ('MSN', 20.196043165467625), ('TYS', 24.069204152249135), ('JAC', 28.095238095238095), ('OKC', 30.61904761904762), ('TUL', 33.65986394557823), ('CAE', 41.764150943396224)]\n"
     ]
    }
   ],
   "source": [
    "# Create a dictionary where the keys are the destinations and the values are the average flight delays going there\n",
    "dest_averages = {}\n",
    "for i in dest_list:\n",
    "    avg = flights2['arr_delay'].loc[flights2['dest'] == i].mean(axis=0)\n",
    "    dest_averages[i] = avg\n",
    "\n",
    "# Sort the dictionary by the values, for ease of reference\n",
    "sorted_dest_averages = sorted(dest_averages.items(), key=lambda x: x[1])\n",
    "print(sorted_dest_averages)"
   ]
  },
  {
   "cell_type": "code",
   "execution_count": 123,
   "metadata": {},
   "outputs": [
    {
     "data": {
      "image/png": "[encoded data removed]",
      "text/plain": [
       "<Figure size 600x400 with 1 Axes>"
      ]
     },
     "metadata": {},
     "output_type": "display_data"
    }
   ],
   "source": [
    "# Plot the results\n",
    "dest_averages_bar = plt.bar(dest_averages.keys(), dest_averages.values())\n",
    "plt.xlabel('Destination Airport')\n",
    "plt.ylabel('Average Delay (min)')\n",
    "plt.title('Average Flight Delay by Destination 2013')\n",
    "plt.show()"
   ]
  },
  {
   "cell_type": "markdown",
   "metadata": {},
   "source": [
    "<b> Observations: </b>\n",
    "- There are a few extreme values, both positive and negative\n",
    "- Referring to the printed sorted dictionary, the longest average delays are flights going to CAE (South Carolina), TUL (Oklahoma), OKC (Oklahoma), JAC (Wyoming), and TYS (Tennessee)\n",
    "\n",
    "- LEX (Kentucky), PSP (California), and SNA (California) arrive earliest, on average"
   ]
  },
  {
   "cell_type": "markdown",
   "metadata": {},
   "source": [
    "<b> Report 7:</b>\n",
    "\n",
    "- Next, we look at the average delay against the length of the flight in minutes"
   ]
  },
  {
   "cell_type": "code",
   "execution_count": 124,
   "metadata": {},
   "outputs": [
    {
     "name": "stdout",
     "output_type": "stream",
     "text": [
      "20.0\n",
      "695.0\n"
     ]
    }
   ],
   "source": [
    "# First, find the shortest and longest flight times to generate a range\n",
    "air_time_low = flights2['air_time'].min()\n",
    "air_time_high = flights2['air_time'].max()\n",
    "print(air_time_low)\n",
    "print(air_time_high)"
   ]
  },
  {
   "cell_type": "markdown",
   "metadata": {},
   "source": [
    "Air time ranges from 20 to 695.  We can divide this range into 20 segments of equal length and group all flights by their corresponding flight times."
   ]
  },
  {
   "cell_type": "code",
   "execution_count": 125,
   "metadata": {},
   "outputs": [],
   "source": [
    "step = (695-20)/20"
   ]
  },
  {
   "cell_type": "code",
   "execution_count": 126,
   "metadata": {},
   "outputs": [],
   "source": [
    "# Create a dictionary where the keys are the starting points of the segments of flight times\n",
    "# The values are the average flight delay for all fights falling within that segment of time\n",
    "start = 20\n",
    "air_time_averages = {}\n",
    "for i in range (1, 21):\n",
    "    avg = flights2['arr_delay'].loc[flights2['air_time'].between(start, start+step)].mean(axis=0)\n",
    "    air_time_averages[start] = avg\n",
    "    start = start + step "
   ]
  },
  {
   "cell_type": "code",
   "execution_count": 127,
   "metadata": {},
   "outputs": [
    {
     "name": "stdout",
     "output_type": "stream",
     "text": [
      "{20: 6.781188680068024, 53.75: 8.951518284596885, 87.5: 9.105582343291744, 121.25: 5.955246123038234, 155.0: 10.389510980379049, 188.75: 4.876705738278517, 222.5: 15.279371584699453, 256.25: -2.6558912386706948, 290.0: -4.53057642735699, 323.75: 3.8094719651605877, 357.5: 21.16338880484115, 391.25: 63.37719298245614, 425.0: 39.2, 458.75: 92.0, 492.5: nan, 526.25: nan, 560.0: -8.395348837209303, 593.75: -8.841708542713567, 627.5: 13.151515151515152, 661.25: 35.78947368421053}\n"
     ]
    }
   ],
   "source": [
    "print(air_time_averages)"
   ]
  },
  {
   "cell_type": "code",
   "execution_count": 128,
   "metadata": {},
   "outputs": [
    {
     "data": {
      "image/png": "[encoded data removed]",
      "text/plain": [
       "<Figure size 600x400 with 1 Axes>"
      ]
     },
     "metadata": {},
     "output_type": "display_data"
    }
   ],
   "source": [
    "# Plot the results\n",
    "air_time_averages_scatter = plt.scatter(air_time_averages.keys(), air_time_averages.values())\n",
    "plt.xlabel('Length of Flight (min)')\n",
    "plt.ylabel('Average Delay (min)')\n",
    "plt.title('Average Flight Delay by Flight Time 2013')\n",
    "plt.show()"
   ]
  },
  {
   "cell_type": "markdown",
   "metadata": {},
   "source": [
    "<b> Observations: </b>\n",
    "- Flights that are around 400 minutes in length experience the longest average delays\n",
    "- Flights that are the longest experience above average delays \n",
    "- All other flight lengths have generally consistent average delays"
   ]
  },
  {
   "cell_type": "markdown",
   "metadata": {},
   "source": [
    "<b> Report 8:</b>\n",
    "\n",
    "- Lastly, we look at the average delay based on the distance the flight travels in miles"
   ]
  },
  {
   "cell_type": "code",
   "execution_count": 129,
   "metadata": {},
   "outputs": [
    {
     "name": "stdout",
     "output_type": "stream",
     "text": [
      "80\n",
      "4983\n"
     ]
    }
   ],
   "source": [
    "# First, find the shortest and longest flight distances to generate the range\n",
    "dist_low = flights2['distance'].min()\n",
    "dist_high = flights2['distance'].max()\n",
    "print(dist_low)\n",
    "print(dist_high)"
   ]
  },
  {
   "cell_type": "markdown",
   "metadata": {},
   "source": [
    "Distance ranges from 80 to 4983 miles.  We can divide this range into 50 segments of equal length and group all flights by their corresponding flight distances."
   ]
  },
  {
   "cell_type": "code",
   "execution_count": 130,
   "metadata": {},
   "outputs": [],
   "source": [
    "step2 = (4983 - 80)/50"
   ]
  },
  {
   "cell_type": "code",
   "execution_count": 131,
   "metadata": {},
   "outputs": [],
   "source": [
    "# Create a dictionary where the keys are the starting points of the segments of flight distances\n",
    "# The values are the average flight delay for all fights falling within that segment\n",
    "start2 = 80\n",
    "distance_averages = {}\n",
    "for i in range (1, 51):\n",
    "    avg2 = flights2['arr_delay'].loc[flights2['distance'].between(start2, start2+step2)].mean(axis=0)\n",
    "    distance_averages[start2] = avg2\n",
    "    start2 = start2 + step2 "
   ]
  },
  {
   "cell_type": "code",
   "execution_count": 132,
   "metadata": {},
   "outputs": [
    {
     "data": {
      "image/png": "[encoded data removed]",
      "text/plain": [
       "<Figure size 600x400 with 1 Axes>"
      ]
     },
     "metadata": {},
     "output_type": "display_data"
    }
   ],
   "source": [
    "# Plot the results\n",
    "distance_averages_plt = plt.scatter(distance_averages.keys(), distance_averages.values())\n",
    "plt.xlabel('Distance of Flight (miles)')\n",
    "plt.ylabel('Average Delay (min)')\n",
    "plt.title('Average Flight Delay by Distance of Flight 2013')\n",
    "plt.show()"
   ]
  },
  {
   "cell_type": "markdown",
   "metadata": {},
   "source": [
    "<b> Observations: </b>\n",
    "- Flights that are around 1200 miles in length experience the highest delay, on average\n",
    "- The average delay decreases as the length of the flight decreases"
   ]
  },
  {
   "cell_type": "markdown",
   "metadata": {},
   "source": [
    "### We will now specifically compare Delta Airlines and United Airlines data so that we can examine our problem statement "
   ]
  },
  {
   "cell_type": "markdown",
   "metadata": {},
   "source": [
    "### Task 3: pop_data"
   ]
  },
  {
   "cell_type": "markdown",
   "metadata": {},
   "source": [
    "Create a new dataframe containing only the rows where the carrier is 'UA' or 'DL'"
   ]
  },
  {
   "cell_type": "code",
   "execution_count": 133,
   "metadata": {},
   "outputs": [],
   "source": [
    "pop_data_1 = flights2.loc[flights2['carrier'].isin(['UA', 'DL'])]"
   ]
  },
  {
   "cell_type": "code",
   "execution_count": 134,
   "metadata": {},
   "outputs": [
    {
     "data": {
      "text/html": [
       "<div>\n",
       "<style scoped>\n",
       "    .dataframe tbody tr th:only-of-type {\n",
       "        vertical-align: middle;\n",
       "    }\n",
       "\n",
       "    .dataframe tbody tr th {\n",
       "        vertical-align: top;\n",
       "    }\n",
       "\n",
       "    .dataframe thead th {\n",
       "        text-align: right;\n",
       "    }\n",
       "</style>\n",
       "<table border=\"1\" class=\"dataframe\">\n",
       "  <thead>\n",
       "    <tr style=\"text-align: right;\">\n",
       "      <th></th>\n",
       "      <th>year</th>\n",
       "      <th>month</th>\n",
       "      <th>day</th>\n",
       "      <th>dep_time</th>\n",
       "      <th>sched_dep_time</th>\n",
       "      <th>dep_delay</th>\n",
       "      <th>arr_time</th>\n",
       "      <th>sched_arr_time</th>\n",
       "      <th>arr_delay</th>\n",
       "      <th>carrier</th>\n",
       "      <th>flight</th>\n",
       "      <th>tailnum</th>\n",
       "      <th>origin</th>\n",
       "      <th>dest</th>\n",
       "      <th>air_time</th>\n",
       "      <th>distance</th>\n",
       "      <th>hour</th>\n",
       "      <th>minute</th>\n",
       "      <th>time_hour</th>\n",
       "    </tr>\n",
       "  </thead>\n",
       "  <tbody>\n",
       "    <tr>\n",
       "      <th>0</th>\n",
       "      <td>2013</td>\n",
       "      <td>1</td>\n",
       "      <td>1</td>\n",
       "      <td>517.0</td>\n",
       "      <td>515</td>\n",
       "      <td>2.0</td>\n",
       "      <td>830.0</td>\n",
       "      <td>819</td>\n",
       "      <td>11.0</td>\n",
       "      <td>UA</td>\n",
       "      <td>1545</td>\n",
       "      <td>N14228</td>\n",
       "      <td>EWR</td>\n",
       "      <td>IAH</td>\n",
       "      <td>227.0</td>\n",
       "      <td>1400</td>\n",
       "      <td>5</td>\n",
       "      <td>15</td>\n",
       "      <td>2013-01-01T05:00:00Z</td>\n",
       "    </tr>\n",
       "    <tr>\n",
       "      <th>1</th>\n",
       "      <td>2013</td>\n",
       "      <td>1</td>\n",
       "      <td>1</td>\n",
       "      <td>533.0</td>\n",
       "      <td>529</td>\n",
       "      <td>4.0</td>\n",
       "      <td>850.0</td>\n",
       "      <td>830</td>\n",
       "      <td>20.0</td>\n",
       "      <td>UA</td>\n",
       "      <td>1714</td>\n",
       "      <td>N24211</td>\n",
       "      <td>LGA</td>\n",
       "      <td>IAH</td>\n",
       "      <td>227.0</td>\n",
       "      <td>1416</td>\n",
       "      <td>5</td>\n",
       "      <td>29</td>\n",
       "      <td>2013-01-01T05:00:00Z</td>\n",
       "    </tr>\n",
       "    <tr>\n",
       "      <th>4</th>\n",
       "      <td>2013</td>\n",
       "      <td>1</td>\n",
       "      <td>1</td>\n",
       "      <td>554.0</td>\n",
       "      <td>600</td>\n",
       "      <td>-6.0</td>\n",
       "      <td>812.0</td>\n",
       "      <td>837</td>\n",
       "      <td>-25.0</td>\n",
       "      <td>DL</td>\n",
       "      <td>461</td>\n",
       "      <td>N668DN</td>\n",
       "      <td>LGA</td>\n",
       "      <td>ATL</td>\n",
       "      <td>116.0</td>\n",
       "      <td>762</td>\n",
       "      <td>6</td>\n",
       "      <td>0</td>\n",
       "      <td>2013-01-01T06:00:00Z</td>\n",
       "    </tr>\n",
       "    <tr>\n",
       "      <th>5</th>\n",
       "      <td>2013</td>\n",
       "      <td>1</td>\n",
       "      <td>1</td>\n",
       "      <td>554.0</td>\n",
       "      <td>558</td>\n",
       "      <td>-4.0</td>\n",
       "      <td>740.0</td>\n",
       "      <td>728</td>\n",
       "      <td>12.0</td>\n",
       "      <td>UA</td>\n",
       "      <td>1696</td>\n",
       "      <td>N39463</td>\n",
       "      <td>EWR</td>\n",
       "      <td>ORD</td>\n",
       "      <td>150.0</td>\n",
       "      <td>719</td>\n",
       "      <td>5</td>\n",
       "      <td>58</td>\n",
       "      <td>2013-01-01T05:00:00Z</td>\n",
       "    </tr>\n",
       "    <tr>\n",
       "      <th>12</th>\n",
       "      <td>2013</td>\n",
       "      <td>1</td>\n",
       "      <td>1</td>\n",
       "      <td>558.0</td>\n",
       "      <td>600</td>\n",
       "      <td>-2.0</td>\n",
       "      <td>924.0</td>\n",
       "      <td>917</td>\n",
       "      <td>7.0</td>\n",
       "      <td>UA</td>\n",
       "      <td>194</td>\n",
       "      <td>N29129</td>\n",
       "      <td>JFK</td>\n",
       "      <td>LAX</td>\n",
       "      <td>345.0</td>\n",
       "      <td>2475</td>\n",
       "      <td>6</td>\n",
       "      <td>0</td>\n",
       "      <td>2013-01-01T06:00:00Z</td>\n",
       "    </tr>\n",
       "    <tr>\n",
       "      <th>...</th>\n",
       "      <td>...</td>\n",
       "      <td>...</td>\n",
       "      <td>...</td>\n",
       "      <td>...</td>\n",
       "      <td>...</td>\n",
       "      <td>...</td>\n",
       "      <td>...</td>\n",
       "      <td>...</td>\n",
       "      <td>...</td>\n",
       "      <td>...</td>\n",
       "      <td>...</td>\n",
       "      <td>...</td>\n",
       "      <td>...</td>\n",
       "      <td>...</td>\n",
       "      <td>...</td>\n",
       "      <td>...</td>\n",
       "      <td>...</td>\n",
       "      <td>...</td>\n",
       "      <td>...</td>\n",
       "    </tr>\n",
       "    <tr>\n",
       "      <th>336728</th>\n",
       "      <td>2013</td>\n",
       "      <td>9</td>\n",
       "      <td>30</td>\n",
       "      <td>2055.0</td>\n",
       "      <td>2059</td>\n",
       "      <td>-4.0</td>\n",
       "      <td>2158.0</td>\n",
       "      <td>2211</td>\n",
       "      <td>-13.0</td>\n",
       "      <td>UA</td>\n",
       "      <td>1066</td>\n",
       "      <td>N16701</td>\n",
       "      <td>EWR</td>\n",
       "      <td>BOS</td>\n",
       "      <td>40.0</td>\n",
       "      <td>200</td>\n",
       "      <td>20</td>\n",
       "      <td>59</td>\n",
       "      <td>2013-09-30T20:00:00Z</td>\n",
       "    </tr>\n",
       "    <tr>\n",
       "      <th>336737</th>\n",
       "      <td>2013</td>\n",
       "      <td>9</td>\n",
       "      <td>30</td>\n",
       "      <td>2105.0</td>\n",
       "      <td>2106</td>\n",
       "      <td>-1.0</td>\n",
       "      <td>2329.0</td>\n",
       "      <td>2354</td>\n",
       "      <td>-25.0</td>\n",
       "      <td>UA</td>\n",
       "      <td>475</td>\n",
       "      <td>N477UA</td>\n",
       "      <td>EWR</td>\n",
       "      <td>IAH</td>\n",
       "      <td>175.0</td>\n",
       "      <td>1400</td>\n",
       "      <td>21</td>\n",
       "      <td>6</td>\n",
       "      <td>2013-09-30T21:00:00Z</td>\n",
       "    </tr>\n",
       "    <tr>\n",
       "      <th>336744</th>\n",
       "      <td>2013</td>\n",
       "      <td>9</td>\n",
       "      <td>30</td>\n",
       "      <td>2121.0</td>\n",
       "      <td>2100</td>\n",
       "      <td>21.0</td>\n",
       "      <td>2349.0</td>\n",
       "      <td>14</td>\n",
       "      <td>-25.0</td>\n",
       "      <td>DL</td>\n",
       "      <td>2363</td>\n",
       "      <td>N193DN</td>\n",
       "      <td>JFK</td>\n",
       "      <td>LAX</td>\n",
       "      <td>296.0</td>\n",
       "      <td>2475</td>\n",
       "      <td>21</td>\n",
       "      <td>0</td>\n",
       "      <td>2013-09-30T21:00:00Z</td>\n",
       "    </tr>\n",
       "    <tr>\n",
       "      <th>336755</th>\n",
       "      <td>2013</td>\n",
       "      <td>9</td>\n",
       "      <td>30</td>\n",
       "      <td>2149.0</td>\n",
       "      <td>2156</td>\n",
       "      <td>-7.0</td>\n",
       "      <td>2245.0</td>\n",
       "      <td>2308</td>\n",
       "      <td>-23.0</td>\n",
       "      <td>UA</td>\n",
       "      <td>523</td>\n",
       "      <td>N813UA</td>\n",
       "      <td>EWR</td>\n",
       "      <td>BOS</td>\n",
       "      <td>37.0</td>\n",
       "      <td>200</td>\n",
       "      <td>21</td>\n",
       "      <td>56</td>\n",
       "      <td>2013-09-30T21:00:00Z</td>\n",
       "    </tr>\n",
       "    <tr>\n",
       "      <th>336762</th>\n",
       "      <td>2013</td>\n",
       "      <td>9</td>\n",
       "      <td>30</td>\n",
       "      <td>2233.0</td>\n",
       "      <td>2113</td>\n",
       "      <td>80.0</td>\n",
       "      <td>112.0</td>\n",
       "      <td>30</td>\n",
       "      <td>42.0</td>\n",
       "      <td>UA</td>\n",
       "      <td>471</td>\n",
       "      <td>N578UA</td>\n",
       "      <td>EWR</td>\n",
       "      <td>SFO</td>\n",
       "      <td>318.0</td>\n",
       "      <td>2565</td>\n",
       "      <td>21</td>\n",
       "      <td>13</td>\n",
       "      <td>2013-09-30T21:00:00Z</td>\n",
       "    </tr>\n",
       "  </tbody>\n",
       "</table>\n",
       "<p>105440 rows × 19 columns</p>\n",
       "</div>"
      ],
      "text/plain": [
       "        year  month  day  dep_time  sched_dep_time  dep_delay  arr_time  \\\n",
       "0       2013      1    1     517.0             515        2.0     830.0   \n",
       "1       2013      1    1     533.0             529        4.0     850.0   \n",
       "4       2013      1    1     554.0             600       -6.0     812.0   \n",
       "5       2013      1    1     554.0             558       -4.0     740.0   \n",
       "12      2013      1    1     558.0             600       -2.0     924.0   \n",
       "...      ...    ...  ...       ...             ...        ...       ...   \n",
       "336728  2013      9   30    2055.0            2059       -4.0    2158.0   \n",
       "336737  2013      9   30    2105.0            2106       -1.0    2329.0   \n",
       "336744  2013      9   30    2121.0            2100       21.0    2349.0   \n",
       "336755  2013      9   30    2149.0            2156       -7.0    2245.0   \n",
       "336762  2013      9   30    2233.0            2113       80.0     112.0   \n",
       "\n",
       "        sched_arr_time  arr_delay carrier  flight tailnum origin dest  \\\n",
       "0                  819       11.0      UA    1545  N14228    EWR  IAH   \n",
       "1                  830       20.0      UA    1714  N24211    LGA  IAH   \n",
       "4                  837      -25.0      DL     461  N668DN    LGA  ATL   \n",
       "5                  728       12.0      UA    1696  N39463    EWR  ORD   \n",
       "12                 917        7.0      UA     194  N29129    JFK  LAX   \n",
       "...                ...        ...     ...     ...     ...    ...  ...   \n",
       "336728            2211      -13.0      UA    1066  N16701    EWR  BOS   \n",
       "336737            2354      -25.0      UA     475  N477UA    EWR  IAH   \n",
       "336744              14      -25.0      DL    2363  N193DN    JFK  LAX   \n",
       "336755            2308      -23.0      UA     523  N813UA    EWR  BOS   \n",
       "336762              30       42.0      UA     471  N578UA    EWR  SFO   \n",
       "\n",
       "        air_time  distance  hour  minute             time_hour  \n",
       "0          227.0      1400     5      15  2013-01-01T05:00:00Z  \n",
       "1          227.0      1416     5      29  2013-01-01T05:00:00Z  \n",
       "4          116.0       762     6       0  2013-01-01T06:00:00Z  \n",
       "5          150.0       719     5      58  2013-01-01T05:00:00Z  \n",
       "12         345.0      2475     6       0  2013-01-01T06:00:00Z  \n",
       "...          ...       ...   ...     ...                   ...  \n",
       "336728      40.0       200    20      59  2013-09-30T20:00:00Z  \n",
       "336737     175.0      1400    21       6  2013-09-30T21:00:00Z  \n",
       "336744     296.0      2475    21       0  2013-09-30T21:00:00Z  \n",
       "336755      37.0       200    21      56  2013-09-30T21:00:00Z  \n",
       "336762     318.0      2565    21      13  2013-09-30T21:00:00Z  \n",
       "\n",
       "[105440 rows x 19 columns]"
      ]
     },
     "metadata": {},
     "output_type": "display_data"
    }
   ],
   "source": [
    "display(pop_data_1)"
   ]
  },
  {
   "cell_type": "code",
   "execution_count": 135,
   "metadata": {},
   "outputs": [
    {
     "data": {
      "text/plain": [
       "array(['UA', 'DL'], dtype=object)"
      ]
     },
     "execution_count": 135,
     "metadata": {},
     "output_type": "execute_result"
    }
   ],
   "source": [
    "pop_data_1['carrier'].unique()"
   ]
  },
  {
   "cell_type": "markdown",
   "metadata": {},
   "source": [
    "<b> Requirements for pop_data dataset:</b>\n",
    "- pop_data should only contain two columns: company name and delayed arrival flights\n",
    "- The dataset should be limited to no more than 20,000 rows per airline"
   ]
  },
  {
   "cell_type": "markdown",
   "metadata": {},
   "source": [
    "First, remove all unnecessary columns"
   ]
  },
  {
   "cell_type": "code",
   "execution_count": 136,
   "metadata": {},
   "outputs": [],
   "source": [
    "pop_data_2 = pop_data_1.drop(columns=['year', 'month', 'day', 'dep_time', 'sched_dep_time', 'dep_delay',\n",
    "                                         'arr_time', 'sched_arr_time', 'flight', 'tailnum', 'origin', 'dest', \n",
    "                                         'air_time', 'distance', 'hour', 'minute', 'time_hour'])"
   ]
  },
  {
   "cell_type": "code",
   "execution_count": 137,
   "metadata": {},
   "outputs": [
    {
     "data": {
      "text/html": [
       "<div>\n",
       "<style scoped>\n",
       "    .dataframe tbody tr th:only-of-type {\n",
       "        vertical-align: middle;\n",
       "    }\n",
       "\n",
       "    .dataframe tbody tr th {\n",
       "        vertical-align: top;\n",
       "    }\n",
       "\n",
       "    .dataframe thead th {\n",
       "        text-align: right;\n",
       "    }\n",
       "</style>\n",
       "<table border=\"1\" class=\"dataframe\">\n",
       "  <thead>\n",
       "    <tr style=\"text-align: right;\">\n",
       "      <th></th>\n",
       "      <th>arr_delay</th>\n",
       "      <th>carrier</th>\n",
       "    </tr>\n",
       "  </thead>\n",
       "  <tbody>\n",
       "    <tr>\n",
       "      <th>0</th>\n",
       "      <td>11.0</td>\n",
       "      <td>UA</td>\n",
       "    </tr>\n",
       "    <tr>\n",
       "      <th>1</th>\n",
       "      <td>20.0</td>\n",
       "      <td>UA</td>\n",
       "    </tr>\n",
       "    <tr>\n",
       "      <th>4</th>\n",
       "      <td>-25.0</td>\n",
       "      <td>DL</td>\n",
       "    </tr>\n",
       "    <tr>\n",
       "      <th>5</th>\n",
       "      <td>12.0</td>\n",
       "      <td>UA</td>\n",
       "    </tr>\n",
       "    <tr>\n",
       "      <th>12</th>\n",
       "      <td>7.0</td>\n",
       "      <td>UA</td>\n",
       "    </tr>\n",
       "    <tr>\n",
       "      <th>...</th>\n",
       "      <td>...</td>\n",
       "      <td>...</td>\n",
       "    </tr>\n",
       "    <tr>\n",
       "      <th>336728</th>\n",
       "      <td>-13.0</td>\n",
       "      <td>UA</td>\n",
       "    </tr>\n",
       "    <tr>\n",
       "      <th>336737</th>\n",
       "      <td>-25.0</td>\n",
       "      <td>UA</td>\n",
       "    </tr>\n",
       "    <tr>\n",
       "      <th>336744</th>\n",
       "      <td>-25.0</td>\n",
       "      <td>DL</td>\n",
       "    </tr>\n",
       "    <tr>\n",
       "      <th>336755</th>\n",
       "      <td>-23.0</td>\n",
       "      <td>UA</td>\n",
       "    </tr>\n",
       "    <tr>\n",
       "      <th>336762</th>\n",
       "      <td>42.0</td>\n",
       "      <td>UA</td>\n",
       "    </tr>\n",
       "  </tbody>\n",
       "</table>\n",
       "<p>105440 rows × 2 columns</p>\n",
       "</div>"
      ],
      "text/plain": [
       "        arr_delay carrier\n",
       "0            11.0      UA\n",
       "1            20.0      UA\n",
       "4           -25.0      DL\n",
       "5            12.0      UA\n",
       "12            7.0      UA\n",
       "...           ...     ...\n",
       "336728      -13.0      UA\n",
       "336737      -25.0      UA\n",
       "336744      -25.0      DL\n",
       "336755      -23.0      UA\n",
       "336762       42.0      UA\n",
       "\n",
       "[105440 rows x 2 columns]"
      ]
     },
     "metadata": {},
     "output_type": "display_data"
    }
   ],
   "source": [
    "display(pop_data_2)"
   ]
  },
  {
   "cell_type": "markdown",
   "metadata": {},
   "source": [
    "Next, check how many rows we have for each of United Airlines and Delta Airlines."
   ]
  },
  {
   "cell_type": "code",
   "execution_count": 138,
   "metadata": {},
   "outputs": [
    {
     "data": {
      "text/plain": [
       "arr_delay    57782\n",
       "carrier      57782\n",
       "dtype: int64"
      ]
     },
     "execution_count": 138,
     "metadata": {},
     "output_type": "execute_result"
    }
   ],
   "source": [
    "pop_data_2.loc[pop_data_2['carrier'] == 'UA'].count()"
   ]
  },
  {
   "cell_type": "code",
   "execution_count": 139,
   "metadata": {},
   "outputs": [
    {
     "data": {
      "text/plain": [
       "arr_delay    47658\n",
       "carrier      47658\n",
       "dtype: int64"
      ]
     },
     "execution_count": 139,
     "metadata": {},
     "output_type": "execute_result"
    }
   ],
   "source": [
    "pop_data_2.loc[pop_data_2['carrier'] == 'DL'].count()"
   ]
  },
  {
   "cell_type": "markdown",
   "metadata": {},
   "source": [
    "- United Airlines has 57,782 data points.\n",
    "- Delta Airlines has 47,658 data points."
   ]
  },
  {
   "cell_type": "markdown",
   "metadata": {},
   "source": [
    "<b>Before commencing with taking random samples we will split the dataset and examine the distributions of arrival delays for each of these two airlines.</b>"
   ]
  },
  {
   "cell_type": "code",
   "execution_count": 140,
   "metadata": {},
   "outputs": [],
   "source": [
    "ua_full = pop_data_2.loc[pop_data_2['carrier'] == 'UA']\n",
    "dl_full = pop_data_2.loc[pop_data_2['carrier'] == 'DL']"
   ]
  },
  {
   "cell_type": "code",
   "execution_count": 141,
   "metadata": {},
   "outputs": [
    {
     "data": {
      "text/plain": [
       "(57782, 2)"
      ]
     },
     "execution_count": 141,
     "metadata": {},
     "output_type": "execute_result"
    }
   ],
   "source": [
    "ua_full.shape"
   ]
  },
  {
   "cell_type": "code",
   "execution_count": 142,
   "metadata": {},
   "outputs": [
    {
     "data": {
      "text/plain": [
       "(47658, 2)"
      ]
     },
     "execution_count": 142,
     "metadata": {},
     "output_type": "execute_result"
    }
   ],
   "source": [
    "dl_full.shape"
   ]
  },
  {
   "cell_type": "markdown",
   "metadata": {},
   "source": [
    "<b> We start our examination by plotting the arrival delay data separately for each of the two airlines.</b>"
   ]
  },
  {
   "cell_type": "code",
   "execution_count": 143,
   "metadata": {},
   "outputs": [
    {
     "data": {
      "image/png": "[encoded data removed]",
      "text/plain": [
       "<Figure size 600x400 with 1 Axes>"
      ]
     },
     "metadata": {},
     "output_type": "display_data"
    }
   ],
   "source": [
    "# United Airlines flights\n",
    "ua_hist = plt.hist(ua_full['arr_delay'], bins=30)\n",
    "plt.xlabel('Delay (min)')\n",
    "plt.ylabel('Count')\n",
    "plt.title('United Airlines Flights out of NYC in 2013')\n",
    "plt.show()"
   ]
  },
  {
   "cell_type": "markdown",
   "metadata": {},
   "source": [
    "- The data appears to be somewhat normally distributed but it was definite positive skew.\n",
    "- The data appears to be centred around 0 but we see values that go beyond 400"
   ]
  },
  {
   "cell_type": "code",
   "execution_count": 144,
   "metadata": {},
   "outputs": [
    {
     "data": {
      "image/png": "[encoded data removed]",
      "text/plain": [
       "<Figure size 600x400 with 1 Axes>"
      ]
     },
     "metadata": {},
     "output_type": "display_data"
    }
   ],
   "source": [
    "# Delta Airlines flights\n",
    "dl_hist = plt.hist(dl_full['arr_delay'], bins=30)\n",
    "plt.xlabel('Delay (min)')\n",
    "plt.ylabel('Count')\n",
    "plt.title('Delta Airlines Flights out of NYC in 2013')\n",
    "plt.show()"
   ]
  },
  {
   "cell_type": "markdown",
   "metadata": {},
   "source": [
    "- Similarly, the data appears to be somewhat normally distributed but it has definite positive skew.\n",
    "- The data appears to be centred around 0 but we see values that go beyond 800"
   ]
  },
  {
   "cell_type": "markdown",
   "metadata": {},
   "source": [
    "<b>Observations:</b>\n",
    "- Both means appear to be around 0.\n",
    "- Both appear to have outliers on the high end.\n",
    "\n",
    "<b>Next steps:</b>\n",
    "- We will perform a T-Test on this data to examine what we can say about the means of the two samples."
   ]
  },
  {
   "cell_type": "markdown",
   "metadata": {},
   "source": [
    "<b> Consideration:</b>\n",
    "- An assumption required by the T-Test is that the data is approximately normally distributed and approximately symmetric about the mean\n",
    "- We must decide if we should remove values that we classify as outliers"
   ]
  },
  {
   "cell_type": "markdown",
   "metadata": {},
   "source": [
    "<b>Question</b> - Is the diffence between the means statistically significant? \n",
    "\n",
    "<b>Null Hypothesis:</b>  The average delay of a Delta Airlines flight = The average delay of a United Airlines flight \n",
    "\n",
    "<b>Alternate hypothesis:</b>  The means are not equal"
   ]
  },
  {
   "cell_type": "code",
   "execution_count": 145,
   "metadata": {},
   "outputs": [
    {
     "data": {
      "text/plain": [
       "Ttest_indResult(statistic=7.265976976996793, pvalue=3.728990653731314e-13)"
      ]
     },
     "execution_count": 145,
     "metadata": {},
     "output_type": "execute_result"
    }
   ],
   "source": [
    "# We just Scipy Stat's ttest_ind function to perform this test\n",
    "t_statistic = ttest_ind(ua_full['arr_delay'], dl_full['arr_delay'])\n",
    "t_statistic"
   ]
  },
  {
   "cell_type": "markdown",
   "metadata": {},
   "source": [
    "<b>Conclusion:</b>\n",
    "\n",
    "- Our p-value is 3.728990653731314e-13, which is very close to zero. \n",
    "- From this we have evidence to reject the null hypothesis.\n",
    "- That is, the difference between the means is statistically significant at a 99% confidence level."
   ]
  },
  {
   "cell_type": "markdown",
   "metadata": {},
   "source": [
    "<b> Means before removing outliers: </b>"
   ]
  },
  {
   "cell_type": "code",
   "execution_count": 146,
   "metadata": {},
   "outputs": [
    {
     "name": "stdout",
     "output_type": "stream",
     "text": [
      "Mean of Delta Airlines arrival delay: 1.6443409291199798 minutes\n",
      "Mean of United Airlines arrival delay: 3.5580111453393792 minutes\n"
     ]
    }
   ],
   "source": [
    "dl_full_mean = dl_full['arr_delay'].mean()\n",
    "ua_full_mean = ua_full['arr_delay'].mean()\n",
    "print('Mean of Delta Airlines arrival delay:', dl_full_mean, 'minutes')\n",
    "print('Mean of United Airlines arrival delay:', ua_full_mean, 'minutes')"
   ]
  },
  {
   "cell_type": "markdown",
   "metadata": {},
   "source": [
    "We have concluded that the means are statistically different, and we see that United Airlines flights are delayed more on average than Delta Airlines flights.  We also note that both samples have outliers on the high end.  We will now examine these outliers and examine their impact on the means of the two datasets."
   ]
  },
  {
   "cell_type": "markdown",
   "metadata": {},
   "source": [
    "<b>Since these distributions appear to be of normal distribution, we define an outlier as a value that is more than 3 standard deviations away from the mean in either direction</b>"
   ]
  },
  {
   "cell_type": "code",
   "execution_count": 147,
   "metadata": {},
   "outputs": [],
   "source": [
    "# Calculate what constitutes an outlier for United Airlines\n",
    "ua_full_std = ua_full['arr_delay'].std()\n",
    "threshold_low_ua = ua_full_mean - 3*ua_full_std\n",
    "threshold_high_ua = ua_full_mean + 3*ua_full_std"
   ]
  },
  {
   "cell_type": "code",
   "execution_count": 148,
   "metadata": {},
   "outputs": [
    {
     "data": {
      "text/html": [
       "<div>\n",
       "<style scoped>\n",
       "    .dataframe tbody tr th:only-of-type {\n",
       "        vertical-align: middle;\n",
       "    }\n",
       "\n",
       "    .dataframe tbody tr th {\n",
       "        vertical-align: top;\n",
       "    }\n",
       "\n",
       "    .dataframe thead th {\n",
       "        text-align: right;\n",
       "    }\n",
       "</style>\n",
       "<table border=\"1\" class=\"dataframe\">\n",
       "  <thead>\n",
       "    <tr style=\"text-align: right;\">\n",
       "      <th></th>\n",
       "      <th>arr_delay</th>\n",
       "      <th>carrier</th>\n",
       "    </tr>\n",
       "  </thead>\n",
       "  <tbody>\n",
       "  </tbody>\n",
       "</table>\n",
       "</div>"
      ],
      "text/plain": [
       "Empty DataFrame\n",
       "Columns: [arr_delay, carrier]\n",
       "Index: []"
      ]
     },
     "execution_count": 148,
     "metadata": {},
     "output_type": "execute_result"
    }
   ],
   "source": [
    "# List outliers on the low end\n",
    "outliers_low_ua = ua_full[ua_full['arr_delay'] < threshold_low_ua]\n",
    "outliers_low_ua"
   ]
  },
  {
   "cell_type": "code",
   "execution_count": 149,
   "metadata": {},
   "outputs": [
    {
     "data": {
      "text/html": [
       "<div>\n",
       "<style scoped>\n",
       "    .dataframe tbody tr th:only-of-type {\n",
       "        vertical-align: middle;\n",
       "    }\n",
       "\n",
       "    .dataframe tbody tr th {\n",
       "        vertical-align: top;\n",
       "    }\n",
       "\n",
       "    .dataframe thead th {\n",
       "        text-align: right;\n",
       "    }\n",
       "</style>\n",
       "<table border=\"1\" class=\"dataframe\">\n",
       "  <thead>\n",
       "    <tr style=\"text-align: right;\">\n",
       "      <th></th>\n",
       "      <th>arr_delay</th>\n",
       "      <th>carrier</th>\n",
       "    </tr>\n",
       "  </thead>\n",
       "  <tbody>\n",
       "    <tr>\n",
       "      <th>268</th>\n",
       "      <td>145.0</td>\n",
       "      <td>UA</td>\n",
       "    </tr>\n",
       "    <tr>\n",
       "      <th>1032</th>\n",
       "      <td>171.0</td>\n",
       "      <td>UA</td>\n",
       "    </tr>\n",
       "    <tr>\n",
       "      <th>1310</th>\n",
       "      <td>323.0</td>\n",
       "      <td>UA</td>\n",
       "    </tr>\n",
       "    <tr>\n",
       "      <th>1337</th>\n",
       "      <td>136.0</td>\n",
       "      <td>UA</td>\n",
       "    </tr>\n",
       "    <tr>\n",
       "      <th>1749</th>\n",
       "      <td>359.0</td>\n",
       "      <td>UA</td>\n",
       "    </tr>\n",
       "    <tr>\n",
       "      <th>...</th>\n",
       "      <td>...</td>\n",
       "      <td>...</td>\n",
       "    </tr>\n",
       "    <tr>\n",
       "      <th>330237</th>\n",
       "      <td>133.0</td>\n",
       "      <td>UA</td>\n",
       "    </tr>\n",
       "    <tr>\n",
       "      <th>331920</th>\n",
       "      <td>297.0</td>\n",
       "      <td>UA</td>\n",
       "    </tr>\n",
       "    <tr>\n",
       "      <th>332149</th>\n",
       "      <td>140.0</td>\n",
       "      <td>UA</td>\n",
       "    </tr>\n",
       "    <tr>\n",
       "      <th>333175</th>\n",
       "      <td>405.0</td>\n",
       "      <td>UA</td>\n",
       "    </tr>\n",
       "    <tr>\n",
       "      <th>335317</th>\n",
       "      <td>134.0</td>\n",
       "      <td>UA</td>\n",
       "    </tr>\n",
       "  </tbody>\n",
       "</table>\n",
       "<p>1247 rows × 2 columns</p>\n",
       "</div>"
      ],
      "text/plain": [
       "        arr_delay carrier\n",
       "268         145.0      UA\n",
       "1032        171.0      UA\n",
       "1310        323.0      UA\n",
       "1337        136.0      UA\n",
       "1749        359.0      UA\n",
       "...           ...     ...\n",
       "330237      133.0      UA\n",
       "331920      297.0      UA\n",
       "332149      140.0      UA\n",
       "333175      405.0      UA\n",
       "335317      134.0      UA\n",
       "\n",
       "[1247 rows x 2 columns]"
      ]
     },
     "execution_count": 149,
     "metadata": {},
     "output_type": "execute_result"
    }
   ],
   "source": [
    "# List outliers on the high end\n",
    "outliers_high_ua = ua_full[ua_full['arr_delay'] > threshold_high_ua]\n",
    "outliers_high_ua"
   ]
  },
  {
   "cell_type": "markdown",
   "metadata": {},
   "source": [
    "For United Airlines, we see there are no outliers on the low end but there are 1,247 on the high end."
   ]
  },
  {
   "cell_type": "code",
   "execution_count": 150,
   "metadata": {},
   "outputs": [],
   "source": [
    "# Calculate what constitutes an outlier for Delta Airlines\n",
    "dl_full_std = dl_full['arr_delay'].std()\n",
    "threshold_low_dl = dl_full_mean - 3*dl_full_std\n",
    "threshold_high_dl = dl_full_mean + 3*dl_full_std"
   ]
  },
  {
   "cell_type": "code",
   "execution_count": 151,
   "metadata": {},
   "outputs": [
    {
     "data": {
      "text/html": [
       "<div>\n",
       "<style scoped>\n",
       "    .dataframe tbody tr th:only-of-type {\n",
       "        vertical-align: middle;\n",
       "    }\n",
       "\n",
       "    .dataframe tbody tr th {\n",
       "        vertical-align: top;\n",
       "    }\n",
       "\n",
       "    .dataframe thead th {\n",
       "        text-align: right;\n",
       "    }\n",
       "</style>\n",
       "<table border=\"1\" class=\"dataframe\">\n",
       "  <thead>\n",
       "    <tr style=\"text-align: right;\">\n",
       "      <th></th>\n",
       "      <th>arr_delay</th>\n",
       "      <th>carrier</th>\n",
       "    </tr>\n",
       "  </thead>\n",
       "  <tbody>\n",
       "  </tbody>\n",
       "</table>\n",
       "</div>"
      ],
      "text/plain": [
       "Empty DataFrame\n",
       "Columns: [arr_delay, carrier]\n",
       "Index: []"
      ]
     },
     "execution_count": 151,
     "metadata": {},
     "output_type": "execute_result"
    }
   ],
   "source": [
    "# List outliers on the low end\n",
    "outliers_low_dl = dl_full[dl_full['arr_delay'] < threshold_low_dl]\n",
    "outliers_low_dl"
   ]
  },
  {
   "cell_type": "code",
   "execution_count": 152,
   "metadata": {},
   "outputs": [
    {
     "data": {
      "text/html": [
       "<div>\n",
       "<style scoped>\n",
       "    .dataframe tbody tr th:only-of-type {\n",
       "        vertical-align: middle;\n",
       "    }\n",
       "\n",
       "    .dataframe tbody tr th {\n",
       "        vertical-align: top;\n",
       "    }\n",
       "\n",
       "    .dataframe thead th {\n",
       "        text-align: right;\n",
       "    }\n",
       "</style>\n",
       "<table border=\"1\" class=\"dataframe\">\n",
       "  <thead>\n",
       "    <tr style=\"text-align: right;\">\n",
       "      <th></th>\n",
       "      <th>arr_delay</th>\n",
       "      <th>carrier</th>\n",
       "    </tr>\n",
       "  </thead>\n",
       "  <tbody>\n",
       "    <tr>\n",
       "      <th>2366</th>\n",
       "      <td>175.0</td>\n",
       "      <td>DL</td>\n",
       "    </tr>\n",
       "    <tr>\n",
       "      <th>2598</th>\n",
       "      <td>270.0</td>\n",
       "      <td>DL</td>\n",
       "    </tr>\n",
       "    <tr>\n",
       "      <th>3969</th>\n",
       "      <td>308.0</td>\n",
       "      <td>DL</td>\n",
       "    </tr>\n",
       "    <tr>\n",
       "      <th>9621</th>\n",
       "      <td>167.0</td>\n",
       "      <td>DL</td>\n",
       "    </tr>\n",
       "    <tr>\n",
       "      <th>10708</th>\n",
       "      <td>189.0</td>\n",
       "      <td>DL</td>\n",
       "    </tr>\n",
       "    <tr>\n",
       "      <th>...</th>\n",
       "      <td>...</td>\n",
       "      <td>...</td>\n",
       "    </tr>\n",
       "    <tr>\n",
       "      <th>323708</th>\n",
       "      <td>168.0</td>\n",
       "      <td>DL</td>\n",
       "    </tr>\n",
       "    <tr>\n",
       "      <th>325938</th>\n",
       "      <td>182.0</td>\n",
       "      <td>DL</td>\n",
       "    </tr>\n",
       "    <tr>\n",
       "      <th>326949</th>\n",
       "      <td>160.0</td>\n",
       "      <td>DL</td>\n",
       "    </tr>\n",
       "    <tr>\n",
       "      <th>328230</th>\n",
       "      <td>328.0</td>\n",
       "      <td>DL</td>\n",
       "    </tr>\n",
       "    <tr>\n",
       "      <th>331592</th>\n",
       "      <td>190.0</td>\n",
       "      <td>DL</td>\n",
       "    </tr>\n",
       "  </tbody>\n",
       "</table>\n",
       "<p>920 rows × 2 columns</p>\n",
       "</div>"
      ],
      "text/plain": [
       "        arr_delay carrier\n",
       "2366        175.0      DL\n",
       "2598        270.0      DL\n",
       "3969        308.0      DL\n",
       "9621        167.0      DL\n",
       "10708       189.0      DL\n",
       "...           ...     ...\n",
       "323708      168.0      DL\n",
       "325938      182.0      DL\n",
       "326949      160.0      DL\n",
       "328230      328.0      DL\n",
       "331592      190.0      DL\n",
       "\n",
       "[920 rows x 2 columns]"
      ]
     },
     "execution_count": 152,
     "metadata": {},
     "output_type": "execute_result"
    }
   ],
   "source": [
    "# List outliers on the high end\n",
    "outliers_high_dl = dl_full[dl_full['arr_delay'] > threshold_high_dl]\n",
    "outliers_high_dl"
   ]
  },
  {
   "cell_type": "markdown",
   "metadata": {},
   "source": [
    "For Delta United Airlines, we see there are no outliers on the low end but there are 920 on the high end."
   ]
  },
  {
   "cell_type": "markdown",
   "metadata": {},
   "source": [
    "<b>We will now remove these outliers and examine the effects on our distributions.</b>"
   ]
  },
  {
   "cell_type": "code",
   "execution_count": 153,
   "metadata": {},
   "outputs": [],
   "source": [
    "# Using the index of the outliers found above, drop these rows for United Airlines\n",
    "ua_full_no_outliers = ua_full.drop(index = outliers_high_ua.index)"
   ]
  },
  {
   "cell_type": "code",
   "execution_count": 154,
   "metadata": {},
   "outputs": [],
   "source": [
    "# Do the same for Delta Airlines\n",
    "dl_full_no_outliers = dl_full.drop(index = outliers_high_dl.index)"
   ]
  },
  {
   "cell_type": "code",
   "execution_count": 155,
   "metadata": {
    "scrolled": false
   },
   "outputs": [
    {
     "data": {
      "image/png": "[encoded data removed]",
      "text/plain": [
       "<Figure size 600x400 with 1 Axes>"
      ]
     },
     "metadata": {},
     "output_type": "display_data"
    }
   ],
   "source": [
    "# Replot the distributions\n",
    "ua_hist_2 = plt.hist(ua_full_no_outliers['arr_delay'], bins=30)\n",
    "plt.xlabel('Delay (min)')\n",
    "plt.ylabel('Count')\n",
    "plt.title('United Airlines Flights in 2013 - Outliers Removed')\n",
    "plt.show()"
   ]
  },
  {
   "cell_type": "code",
   "execution_count": 156,
   "metadata": {
    "scrolled": false
   },
   "outputs": [
    {
     "data": {
      "image/png": "[encoded data removed]",
      "text/plain": [
       "<Figure size 600x400 with 1 Axes>"
      ]
     },
     "metadata": {},
     "output_type": "display_data"
    }
   ],
   "source": [
    "dl_hist_2 = plt.hist(dl_full_no_outliers['arr_delay'], bins=30)\n",
    "plt.xlabel('Delay (min)')\n",
    "plt.ylabel('Count')\n",
    "plt.title('Delta Airlines Flights in 2013 - Outliers Removed')\n",
    "plt.show()"
   ]
  },
  {
   "cell_type": "markdown",
   "metadata": {},
   "source": [
    "Before commencing with taking random samples for further analysis, we can compute the new means of these distributions."
   ]
  },
  {
   "cell_type": "code",
   "execution_count": 157,
   "metadata": {},
   "outputs": [
    {
     "name": "stdout",
     "output_type": "stream",
     "text": [
      "New mean of Delta Airlines arrival delay: -2.6904446061021012 minutes\n",
      "New mean of United Airlines arrival delay: -0.6178296630405943 minutes\n"
     ]
    }
   ],
   "source": [
    "dl_full_no_outliers_mean = dl_full_no_outliers['arr_delay'].mean()\n",
    "ua_full_no_outliers_mean = ua_full_no_outliers['arr_delay'].mean()\n",
    "print('New mean of Delta Airlines arrival delay:', dl_full_no_outliers_mean, 'minutes')\n",
    "print('New mean of United Airlines arrival delay:', ua_full_no_outliers_mean, 'minutes')"
   ]
  },
  {
   "cell_type": "markdown",
   "metadata": {},
   "source": [
    "Let us again perform a T-Test to see if the difference in these means is statistically significant.\n",
    "\n",
    "Again, our null hypothesis is that the average flight delays are the same for both airlines."
   ]
  },
  {
   "cell_type": "code",
   "execution_count": 158,
   "metadata": {},
   "outputs": [
    {
     "data": {
      "text/plain": [
       "Ttest_indResult(statistic=11.649665156410443, pvalue=2.4101420315743854e-31)"
      ]
     },
     "execution_count": 158,
     "metadata": {},
     "output_type": "execute_result"
    }
   ],
   "source": [
    "t_statistic = ttest_ind(ua_full_no_outliers['arr_delay'], dl_full_no_outliers['arr_delay'])\n",
    "t_statistic"
   ]
  },
  {
   "cell_type": "markdown",
   "metadata": {},
   "source": [
    "- Again, the p-value is essentially equal to zero and again we can reject the null hypothesis.  Thus we can say at a 99% certainty that the average delay of a United Airlines flight is not the same as the average delay of a Delta Airlines flight.  \n",
    "- We see from the data above that although the average flight delay is a negative value for both airlines, <b>Delta Airlines flights actaully arrive earlier on average than United Airlines flights.</b>"
   ]
  },
  {
   "cell_type": "markdown",
   "metadata": {},
   "source": [
    "Next, we will take a random sampling of 20,000 rows from each of the Delta Airlines and United Airlines datasets.  We will proceed using the data that has the outliers removed."
   ]
  },
  {
   "cell_type": "code",
   "execution_count": 159,
   "metadata": {},
   "outputs": [
    {
     "data": {
      "text/plain": [
       "arr_delay    20000\n",
       "carrier      20000\n",
       "dtype: int64"
      ]
     },
     "execution_count": 159,
     "metadata": {},
     "output_type": "execute_result"
    }
   ],
   "source": [
    "# Use the sample method to select a random sample of 20,000 rows\n",
    "pop_data_ua = ua_full_no_outliers.sample(n=20000, random_state=1)\n",
    "pop_data_ua.count()"
   ]
  },
  {
   "cell_type": "code",
   "execution_count": 160,
   "metadata": {},
   "outputs": [
    {
     "data": {
      "text/plain": [
       "arr_delay    20000\n",
       "carrier      20000\n",
       "dtype: int64"
      ]
     },
     "execution_count": 160,
     "metadata": {},
     "output_type": "execute_result"
    }
   ],
   "source": [
    "pop_data_dl = dl_full_no_outliers.sample(n=20000, random_state=1)\n",
    "pop_data_dl.count()"
   ]
  },
  {
   "cell_type": "markdown",
   "metadata": {},
   "source": [
    "We can now combine these into our 'pop_data' dataset"
   ]
  },
  {
   "cell_type": "code",
   "execution_count": 161,
   "metadata": {},
   "outputs": [],
   "source": [
    "pop_data = pd.concat([pop_data_ua, pop_data_dl])"
   ]
  },
  {
   "cell_type": "code",
   "execution_count": 162,
   "metadata": {},
   "outputs": [
    {
     "data": {
      "text/html": [
       "<div>\n",
       "<style scoped>\n",
       "    .dataframe tbody tr th:only-of-type {\n",
       "        vertical-align: middle;\n",
       "    }\n",
       "\n",
       "    .dataframe tbody tr th {\n",
       "        vertical-align: top;\n",
       "    }\n",
       "\n",
       "    .dataframe thead th {\n",
       "        text-align: right;\n",
       "    }\n",
       "</style>\n",
       "<table border=\"1\" class=\"dataframe\">\n",
       "  <thead>\n",
       "    <tr style=\"text-align: right;\">\n",
       "      <th></th>\n",
       "      <th>arr_delay</th>\n",
       "      <th>carrier</th>\n",
       "    </tr>\n",
       "  </thead>\n",
       "  <tbody>\n",
       "    <tr>\n",
       "      <th>20597</th>\n",
       "      <td>-27.0</td>\n",
       "      <td>UA</td>\n",
       "    </tr>\n",
       "    <tr>\n",
       "      <th>170585</th>\n",
       "      <td>-12.0</td>\n",
       "      <td>UA</td>\n",
       "    </tr>\n",
       "    <tr>\n",
       "      <th>201708</th>\n",
       "      <td>-21.0</td>\n",
       "      <td>UA</td>\n",
       "    </tr>\n",
       "    <tr>\n",
       "      <th>192584</th>\n",
       "      <td>-17.0</td>\n",
       "      <td>UA</td>\n",
       "    </tr>\n",
       "    <tr>\n",
       "      <th>304249</th>\n",
       "      <td>-38.0</td>\n",
       "      <td>UA</td>\n",
       "    </tr>\n",
       "    <tr>\n",
       "      <th>...</th>\n",
       "      <td>...</td>\n",
       "      <td>...</td>\n",
       "    </tr>\n",
       "    <tr>\n",
       "      <th>314344</th>\n",
       "      <td>-8.0</td>\n",
       "      <td>DL</td>\n",
       "    </tr>\n",
       "    <tr>\n",
       "      <th>244522</th>\n",
       "      <td>130.0</td>\n",
       "      <td>DL</td>\n",
       "    </tr>\n",
       "    <tr>\n",
       "      <th>192636</th>\n",
       "      <td>-48.0</td>\n",
       "      <td>DL</td>\n",
       "    </tr>\n",
       "    <tr>\n",
       "      <th>135519</th>\n",
       "      <td>-4.0</td>\n",
       "      <td>DL</td>\n",
       "    </tr>\n",
       "    <tr>\n",
       "      <th>308161</th>\n",
       "      <td>-47.0</td>\n",
       "      <td>DL</td>\n",
       "    </tr>\n",
       "  </tbody>\n",
       "</table>\n",
       "<p>40000 rows × 2 columns</p>\n",
       "</div>"
      ],
      "text/plain": [
       "        arr_delay carrier\n",
       "20597       -27.0      UA\n",
       "170585      -12.0      UA\n",
       "201708      -21.0      UA\n",
       "192584      -17.0      UA\n",
       "304249      -38.0      UA\n",
       "...           ...     ...\n",
       "314344       -8.0      DL\n",
       "244522      130.0      DL\n",
       "192636      -48.0      DL\n",
       "135519       -4.0      DL\n",
       "308161      -47.0      DL\n",
       "\n",
       "[40000 rows x 2 columns]"
      ]
     },
     "metadata": {},
     "output_type": "display_data"
    }
   ],
   "source": [
    "display(pop_data)"
   ]
  },
  {
   "cell_type": "markdown",
   "metadata": {},
   "source": [
    "### Task 4: Create datasets \"dl\" and \"ua\" - of 1000 observations each"
   ]
  },
  {
   "cell_type": "code",
   "execution_count": 163,
   "metadata": {},
   "outputs": [],
   "source": [
    "# We now sample 1,000 random rows from each of our previously randomly selected 20,000 rows for each airline\n",
    "ua = pop_data_ua.sample(n=1000, random_state=1)\n",
    "dl = pop_data_dl.sample(n=1000, random_state=1)"
   ]
  },
  {
   "cell_type": "code",
   "execution_count": 164,
   "metadata": {},
   "outputs": [
    {
     "data": {
      "text/html": [
       "<div>\n",
       "<style scoped>\n",
       "    .dataframe tbody tr th:only-of-type {\n",
       "        vertical-align: middle;\n",
       "    }\n",
       "\n",
       "    .dataframe tbody tr th {\n",
       "        vertical-align: top;\n",
       "    }\n",
       "\n",
       "    .dataframe thead th {\n",
       "        text-align: right;\n",
       "    }\n",
       "</style>\n",
       "<table border=\"1\" class=\"dataframe\">\n",
       "  <thead>\n",
       "    <tr style=\"text-align: right;\">\n",
       "      <th></th>\n",
       "      <th>arr_delay</th>\n",
       "      <th>carrier</th>\n",
       "    </tr>\n",
       "  </thead>\n",
       "  <tbody>\n",
       "    <tr>\n",
       "      <th>200614</th>\n",
       "      <td>19.0</td>\n",
       "      <td>UA</td>\n",
       "    </tr>\n",
       "    <tr>\n",
       "      <th>5276</th>\n",
       "      <td>-10.0</td>\n",
       "      <td>UA</td>\n",
       "    </tr>\n",
       "    <tr>\n",
       "      <th>185059</th>\n",
       "      <td>-14.0</td>\n",
       "      <td>UA</td>\n",
       "    </tr>\n",
       "    <tr>\n",
       "      <th>286633</th>\n",
       "      <td>-7.0</td>\n",
       "      <td>UA</td>\n",
       "    </tr>\n",
       "    <tr>\n",
       "      <th>326932</th>\n",
       "      <td>29.0</td>\n",
       "      <td>UA</td>\n",
       "    </tr>\n",
       "    <tr>\n",
       "      <th>...</th>\n",
       "      <td>...</td>\n",
       "      <td>...</td>\n",
       "    </tr>\n",
       "    <tr>\n",
       "      <th>52822</th>\n",
       "      <td>-17.0</td>\n",
       "      <td>UA</td>\n",
       "    </tr>\n",
       "    <tr>\n",
       "      <th>204979</th>\n",
       "      <td>-29.0</td>\n",
       "      <td>UA</td>\n",
       "    </tr>\n",
       "    <tr>\n",
       "      <th>278603</th>\n",
       "      <td>-9.0</td>\n",
       "      <td>UA</td>\n",
       "    </tr>\n",
       "    <tr>\n",
       "      <th>60551</th>\n",
       "      <td>28.0</td>\n",
       "      <td>UA</td>\n",
       "    </tr>\n",
       "    <tr>\n",
       "      <th>83300</th>\n",
       "      <td>-20.0</td>\n",
       "      <td>UA</td>\n",
       "    </tr>\n",
       "  </tbody>\n",
       "</table>\n",
       "<p>1000 rows × 2 columns</p>\n",
       "</div>"
      ],
      "text/plain": [
       "        arr_delay carrier\n",
       "200614       19.0      UA\n",
       "5276        -10.0      UA\n",
       "185059      -14.0      UA\n",
       "286633       -7.0      UA\n",
       "326932       29.0      UA\n",
       "...           ...     ...\n",
       "52822       -17.0      UA\n",
       "204979      -29.0      UA\n",
       "278603       -9.0      UA\n",
       "60551        28.0      UA\n",
       "83300       -20.0      UA\n",
       "\n",
       "[1000 rows x 2 columns]"
      ]
     },
     "metadata": {},
     "output_type": "display_data"
    }
   ],
   "source": [
    "display(ua)"
   ]
  },
  {
   "cell_type": "code",
   "execution_count": 165,
   "metadata": {},
   "outputs": [
    {
     "data": {
      "text/html": [
       "<div>\n",
       "<style scoped>\n",
       "    .dataframe tbody tr th:only-of-type {\n",
       "        vertical-align: middle;\n",
       "    }\n",
       "\n",
       "    .dataframe tbody tr th {\n",
       "        vertical-align: top;\n",
       "    }\n",
       "\n",
       "    .dataframe thead th {\n",
       "        text-align: right;\n",
       "    }\n",
       "</style>\n",
       "<table border=\"1\" class=\"dataframe\">\n",
       "  <thead>\n",
       "    <tr style=\"text-align: right;\">\n",
       "      <th></th>\n",
       "      <th>arr_delay</th>\n",
       "      <th>carrier</th>\n",
       "    </tr>\n",
       "  </thead>\n",
       "  <tbody>\n",
       "    <tr>\n",
       "      <th>328924</th>\n",
       "      <td>8.0</td>\n",
       "      <td>DL</td>\n",
       "    </tr>\n",
       "    <tr>\n",
       "      <th>208857</th>\n",
       "      <td>-19.0</td>\n",
       "      <td>DL</td>\n",
       "    </tr>\n",
       "    <tr>\n",
       "      <th>321751</th>\n",
       "      <td>-32.0</td>\n",
       "      <td>DL</td>\n",
       "    </tr>\n",
       "    <tr>\n",
       "      <th>66494</th>\n",
       "      <td>30.0</td>\n",
       "      <td>DL</td>\n",
       "    </tr>\n",
       "    <tr>\n",
       "      <th>166212</th>\n",
       "      <td>-16.0</td>\n",
       "      <td>DL</td>\n",
       "    </tr>\n",
       "    <tr>\n",
       "      <th>...</th>\n",
       "      <td>...</td>\n",
       "      <td>...</td>\n",
       "    </tr>\n",
       "    <tr>\n",
       "      <th>102333</th>\n",
       "      <td>-27.0</td>\n",
       "      <td>DL</td>\n",
       "    </tr>\n",
       "    <tr>\n",
       "      <th>9319</th>\n",
       "      <td>-11.0</td>\n",
       "      <td>DL</td>\n",
       "    </tr>\n",
       "    <tr>\n",
       "      <th>320995</th>\n",
       "      <td>10.0</td>\n",
       "      <td>DL</td>\n",
       "    </tr>\n",
       "    <tr>\n",
       "      <th>258898</th>\n",
       "      <td>-19.0</td>\n",
       "      <td>DL</td>\n",
       "    </tr>\n",
       "    <tr>\n",
       "      <th>260914</th>\n",
       "      <td>-11.0</td>\n",
       "      <td>DL</td>\n",
       "    </tr>\n",
       "  </tbody>\n",
       "</table>\n",
       "<p>1000 rows × 2 columns</p>\n",
       "</div>"
      ],
      "text/plain": [
       "        arr_delay carrier\n",
       "328924        8.0      DL\n",
       "208857      -19.0      DL\n",
       "321751      -32.0      DL\n",
       "66494        30.0      DL\n",
       "166212      -16.0      DL\n",
       "...           ...     ...\n",
       "102333      -27.0      DL\n",
       "9319        -11.0      DL\n",
       "320995       10.0      DL\n",
       "258898      -19.0      DL\n",
       "260914      -11.0      DL\n",
       "\n",
       "[1000 rows x 2 columns]"
      ]
     },
     "metadata": {},
     "output_type": "display_data"
    }
   ],
   "source": [
    "display(dl)"
   ]
  },
  {
   "cell_type": "markdown",
   "metadata": {},
   "source": [
    "### Task 5: Create combined dataset, \"samples\""
   ]
  },
  {
   "cell_type": "code",
   "execution_count": 166,
   "metadata": {},
   "outputs": [],
   "source": [
    "# We join these into a new dataset to be used for future analysis\n",
    "samples = pd.concat([ua, dl])"
   ]
  },
  {
   "cell_type": "code",
   "execution_count": 167,
   "metadata": {},
   "outputs": [
    {
     "data": {
      "text/html": [
       "<div>\n",
       "<style scoped>\n",
       "    .dataframe tbody tr th:only-of-type {\n",
       "        vertical-align: middle;\n",
       "    }\n",
       "\n",
       "    .dataframe tbody tr th {\n",
       "        vertical-align: top;\n",
       "    }\n",
       "\n",
       "    .dataframe thead th {\n",
       "        text-align: right;\n",
       "    }\n",
       "</style>\n",
       "<table border=\"1\" class=\"dataframe\">\n",
       "  <thead>\n",
       "    <tr style=\"text-align: right;\">\n",
       "      <th></th>\n",
       "      <th>arr_delay</th>\n",
       "      <th>carrier</th>\n",
       "    </tr>\n",
       "  </thead>\n",
       "  <tbody>\n",
       "    <tr>\n",
       "      <th>200614</th>\n",
       "      <td>19.0</td>\n",
       "      <td>UA</td>\n",
       "    </tr>\n",
       "    <tr>\n",
       "      <th>5276</th>\n",
       "      <td>-10.0</td>\n",
       "      <td>UA</td>\n",
       "    </tr>\n",
       "    <tr>\n",
       "      <th>185059</th>\n",
       "      <td>-14.0</td>\n",
       "      <td>UA</td>\n",
       "    </tr>\n",
       "    <tr>\n",
       "      <th>286633</th>\n",
       "      <td>-7.0</td>\n",
       "      <td>UA</td>\n",
       "    </tr>\n",
       "    <tr>\n",
       "      <th>326932</th>\n",
       "      <td>29.0</td>\n",
       "      <td>UA</td>\n",
       "    </tr>\n",
       "    <tr>\n",
       "      <th>...</th>\n",
       "      <td>...</td>\n",
       "      <td>...</td>\n",
       "    </tr>\n",
       "    <tr>\n",
       "      <th>102333</th>\n",
       "      <td>-27.0</td>\n",
       "      <td>DL</td>\n",
       "    </tr>\n",
       "    <tr>\n",
       "      <th>9319</th>\n",
       "      <td>-11.0</td>\n",
       "      <td>DL</td>\n",
       "    </tr>\n",
       "    <tr>\n",
       "      <th>320995</th>\n",
       "      <td>10.0</td>\n",
       "      <td>DL</td>\n",
       "    </tr>\n",
       "    <tr>\n",
       "      <th>258898</th>\n",
       "      <td>-19.0</td>\n",
       "      <td>DL</td>\n",
       "    </tr>\n",
       "    <tr>\n",
       "      <th>260914</th>\n",
       "      <td>-11.0</td>\n",
       "      <td>DL</td>\n",
       "    </tr>\n",
       "  </tbody>\n",
       "</table>\n",
       "<p>2000 rows × 2 columns</p>\n",
       "</div>"
      ],
      "text/plain": [
       "        arr_delay carrier\n",
       "200614       19.0      UA\n",
       "5276        -10.0      UA\n",
       "185059      -14.0      UA\n",
       "286633       -7.0      UA\n",
       "326932       29.0      UA\n",
       "...           ...     ...\n",
       "102333      -27.0      DL\n",
       "9319        -11.0      DL\n",
       "320995       10.0      DL\n",
       "258898      -19.0      DL\n",
       "260914      -11.0      DL\n",
       "\n",
       "[2000 rows x 2 columns]"
      ]
     },
     "metadata": {},
     "output_type": "display_data"
    }
   ],
   "source": [
    "display(samples)"
   ]
  },
  {
   "cell_type": "markdown",
   "metadata": {},
   "source": [
    "### Task 6: Calculate the Standard Error and Mean of Each Sample"
   ]
  },
  {
   "cell_type": "markdown",
   "metadata": {},
   "source": [
    "<b>Standard Error = Sample standard deviation / sqrt(number of samples)</b>"
   ]
  },
  {
   "cell_type": "code",
   "execution_count": 168,
   "metadata": {},
   "outputs": [],
   "source": [
    "ua_sample_se = (ua['arr_delay'].std()) / sqrt((ua['arr_delay'].count()))\n",
    "dl_sample_se = (dl['arr_delay'].std()) / sqrt((dl['arr_delay'].count()))"
   ]
  },
  {
   "cell_type": "code",
   "execution_count": 169,
   "metadata": {},
   "outputs": [
    {
     "name": "stdout",
     "output_type": "stream",
     "text": [
      "Standard Error for United Airlines Sample: 0.9055168274111337\n"
     ]
    }
   ],
   "source": [
    "print(\"Standard Error for United Airlines Sample:\", ua_sample_se)"
   ]
  },
  {
   "cell_type": "code",
   "execution_count": 170,
   "metadata": {},
   "outputs": [
    {
     "name": "stdout",
     "output_type": "stream",
     "text": [
      "Standard Error for Delta Airlines Sample: 0.9080634422854031\n"
     ]
    }
   ],
   "source": [
    "print(\"Standard Error for Delta Airlines Sample:\", dl_sample_se)"
   ]
  },
  {
   "cell_type": "markdown",
   "metadata": {},
   "source": [
    "<b> Mean</b>"
   ]
  },
  {
   "cell_type": "code",
   "execution_count": 171,
   "metadata": {},
   "outputs": [],
   "source": [
    "ua_sample_mean = ua['arr_delay'].mean()\n",
    "dl_sample_mean = dl['arr_delay'].mean()"
   ]
  },
  {
   "cell_type": "code",
   "execution_count": 172,
   "metadata": {},
   "outputs": [
    {
     "name": "stdout",
     "output_type": "stream",
     "text": [
      "Mean of United Airlines Sample: -1.106\n"
     ]
    }
   ],
   "source": [
    "print(\"Mean of United Airlines Sample:\", ua_sample_mean)"
   ]
  },
  {
   "cell_type": "code",
   "execution_count": 173,
   "metadata": {},
   "outputs": [
    {
     "name": "stdout",
     "output_type": "stream",
     "text": [
      "Mean of Delta Airlines Sample: -2.442\n"
     ]
    }
   ],
   "source": [
    "print(\"Mean of Delta Airlines Sample:\", dl_sample_mean)"
   ]
  },
  {
   "cell_type": "markdown",
   "metadata": {},
   "source": [
    "### Task 7: 95% Confidence Intervals"
   ]
  },
  {
   "cell_type": "markdown",
   "metadata": {},
   "source": [
    "The confidence intervals are given by the formula, (sample mean) +- t*(sample standard error)\n",
    "\n",
    "Here, t is the T-statistic with alpha equal to 0.025 and 999 degress of freedom"
   ]
  },
  {
   "cell_type": "markdown",
   "metadata": {},
   "source": [
    "The T-statistic has a value of 1.96 in this case"
   ]
  },
  {
   "cell_type": "code",
   "execution_count": 174,
   "metadata": {},
   "outputs": [
    {
     "name": "stdout",
     "output_type": "stream",
     "text": [
      "The 95% confidence interval for the United Airlines average flight delay is: \n",
      "from -2.881 to 0.669 minutes.\n"
     ]
    }
   ],
   "source": [
    "# First, for the United Airlines sample\n",
    "low = ua_sample_mean - 1.96*ua_sample_se\n",
    "high = ua_sample_mean + 1.96*ua_sample_se\n",
    "\n",
    "print(\"The 95% confidence interval for the United Airlines average \" \n",
    "      \"flight delay is: \\nfrom {:.3f} to {:.3f} minutes.\".format(low, high))"
   ]
  },
  {
   "cell_type": "code",
   "execution_count": 175,
   "metadata": {},
   "outputs": [
    {
     "name": "stdout",
     "output_type": "stream",
     "text": [
      "The 95% confidence interval for Delta Airlines average flight delay is: \n",
      "from -4.222 to -0.662 minutes.\n"
     ]
    }
   ],
   "source": [
    "# The for the Delta Airlines sample\n",
    "low2 = dl_sample_mean - 1.96*dl_sample_se\n",
    "high2 = dl_sample_mean + 1.96*dl_sample_se\n",
    "\n",
    "print(\"The 95% confidence interval for Delta Airlines average \" \n",
    "      \"flight delay is: \\nfrom {:.3f} to {:.3f} minutes.\".format(low2, high2))"
   ]
  },
  {
   "cell_type": "markdown",
   "metadata": {},
   "source": [
    "### Task 8: T-Test"
   ]
  },
  {
   "cell_type": "markdown",
   "metadata": {},
   "source": [
    "Lastly, we will perform a T-Test to compare the means of these random samples"
   ]
  },
  {
   "cell_type": "markdown",
   "metadata": {},
   "source": [
    "<b>Question</b> - Is the diffence between the means statistically significant? \n",
    "\n",
    "<b>Null Hypothesis:</b>  The average delay of a Delta Airlines flight = The average delay of a United Airlines flight \n",
    "\n",
    "<b>Alternate hypothesis:</b>  The means are not equal"
   ]
  },
  {
   "cell_type": "code",
   "execution_count": 176,
   "metadata": {},
   "outputs": [
    {
     "data": {
      "text/plain": [
       "Ttest_indResult(statistic=-1.0417997417576794, pvalue=0.29763057475198257)"
      ]
     },
     "execution_count": 176,
     "metadata": {},
     "output_type": "execute_result"
    }
   ],
   "source": [
    "t_statistic2 = ttest_ind(dl['arr_delay'], ua['arr_delay'])\n",
    "t_statistic2"
   ]
  },
  {
   "cell_type": "markdown",
   "metadata": {},
   "source": [
    "<b> Conclusions: </b>\n",
    "\n",
    "- The p-value is greater than 0.05 and 0.10\n",
    "- This means we cannot reject the null hypothesis at a 95% or even 90% degree of certainty\n",
    "- From these random samples we cannot say that there is a statistically significant difference in the average delay for a United Airlines flight versus a Delta Airlines flight"
   ]
  },
  {
   "cell_type": "code",
   "execution_count": null,
   "metadata": {},
   "outputs": [],
   "source": []
  }
 ],
 "metadata": {
  "kernelspec": {
   "display_name": "Python 3",
   "language": "python",
   "name": "python3"
  },
  "language_info": {
   "codemirror_mode": {
    "name": "ipython",
    "version": 3
   },
   "file_extension": ".py",
   "mimetype": "text/x-python",
   "name": "python",
   "nbconvert_exporter": "python",
   "pygments_lexer": "ipython3",
   "version": "3.8.3"
  }
 },
 "nbformat": 4,
 "nbformat_minor": 4
}
